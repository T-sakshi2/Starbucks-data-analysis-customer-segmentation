{
 "cells": [
  {
   "cell_type": "code",
   "execution_count": 1,
   "id": "4047c08d",
   "metadata": {
    "id": "4047c08d"
   },
   "outputs": [],
   "source": [
    "# Import necessary libraries\n",
    "import pandas as pd\n",
    "import numpy as np\n",
    "from matplotlib import pyplot as plt\n",
    "import seaborn as sns\n",
    "from sklearn.preprocessing import StandardScaler\n",
    "from sklearn.preprocessing import MinMaxScaler\n",
    "from sklearn.model_selection import train_test_split\n",
    "from sklearn import preprocessing\n",
    "from sklearn.cluster import KMeans\n",
    "from yellowbrick.cluster import KElbowVisualizer\n",
    "import plotly.express as px\n",
    "from sklearn.decomposition import PCA\n",
    "from sklearn.metrics.pairwise import cosine_similarity\n",
    "from nltk.tokenize import RegexpTokenizer\n",
    "from sklearn.feature_extraction.text import TfidfVectorizer\n",
    "from scipy.sparse import hstack\n",
    "from tabulate import tabulate\n",
    "from sklearn.preprocessing import LabelEncoder\n",
    "from sklearn.manifold import TSNE\n",
    "from wordcloud import WordCloud\n",
    "from datetime import date"
   ]
  },
  {
   "cell_type": "code",
   "execution_count": 2,
   "id": "mU4oSVTSMXZ7",
   "metadata": {
    "id": "mU4oSVTSMXZ7"
   },
   "outputs": [],
   "source": [
    "sns.set_style(\"whitegrid\")"
   ]
  },
  {
   "cell_type": "code",
   "execution_count": 3,
   "id": "c30c5908",
   "metadata": {
    "id": "c30c5908"
   },
   "outputs": [],
   "source": [
    "transcript=pd.read_csv(r\"C:\\Users\\welcome\\Desktop\\Data Sets\\transcript.csv\")\n",
    "profile=pd.read_csv(r\"C:\\Users\\welcome\\Desktop\\Data Sets\\profile.csv\", parse_dates=['became_member_on'])\n",
    "portfolio=pd.read_csv(r\"C:\\Users\\welcome\\Desktop\\Data Sets\\portfolio.csv\")"
   ]
  },
  {
   "cell_type": "code",
   "execution_count": 4,
   "id": "7a08415f",
   "metadata": {
    "id": "7a08415f"
   },
   "outputs": [],
   "source": [
    "transcript=transcript.drop_duplicates()\n",
    "profile=profile.drop_duplicates()\n",
    "portfolio=portfolio.drop_duplicates()"
   ]
  },
  {
   "cell_type": "code",
   "execution_count": 5,
   "id": "16c1f288",
   "metadata": {
    "colab": {
     "base_uri": "https://localhost:8080/"
    },
    "id": "16c1f288",
    "outputId": "eb884bbe-7a2b-479f-9d8f-c74cf2bd484f"
   },
   "outputs": [
    {
     "name": "stdout",
     "output_type": "stream",
     "text": [
      "<class 'pandas.core.frame.DataFrame'>\n",
      "Int64Index: 306534 entries, 0 to 306533\n",
      "Data columns (total 5 columns):\n",
      " #   Column      Non-Null Count   Dtype \n",
      "---  ------      --------------   ----- \n",
      " 0   Unnamed: 0  306534 non-null  int64 \n",
      " 1   person      306534 non-null  object\n",
      " 2   event       306534 non-null  object\n",
      " 3   value       306534 non-null  object\n",
      " 4   time        306534 non-null  int64 \n",
      "dtypes: int64(2), object(3)\n",
      "memory usage: 14.0+ MB\n"
     ]
    }
   ],
   "source": [
    "transcript.info()"
   ]
  },
  {
   "cell_type": "code",
   "execution_count": 6,
   "id": "1dd7455c",
   "metadata": {
    "colab": {
     "base_uri": "https://localhost:8080/",
     "height": 363
    },
    "id": "1dd7455c",
    "outputId": "d5bbebf2-52db-4839-f283-63e5d0bdd22d"
   },
   "outputs": [
    {
     "data": {
      "text/html": [
       "<div>\n",
       "<style scoped>\n",
       "    .dataframe tbody tr th:only-of-type {\n",
       "        vertical-align: middle;\n",
       "    }\n",
       "\n",
       "    .dataframe tbody tr th {\n",
       "        vertical-align: top;\n",
       "    }\n",
       "\n",
       "    .dataframe thead th {\n",
       "        text-align: right;\n",
       "    }\n",
       "</style>\n",
       "<table border=\"1\" class=\"dataframe\">\n",
       "  <thead>\n",
       "    <tr style=\"text-align: right;\">\n",
       "      <th></th>\n",
       "      <th>Unnamed: 0</th>\n",
       "      <th>person</th>\n",
       "      <th>event</th>\n",
       "      <th>value</th>\n",
       "      <th>time</th>\n",
       "    </tr>\n",
       "  </thead>\n",
       "  <tbody>\n",
       "    <tr>\n",
       "      <th>0</th>\n",
       "      <td>0</td>\n",
       "      <td>78afa995795e4d85b5d9ceeca43f5fef</td>\n",
       "      <td>offer received</td>\n",
       "      <td>{'offer id': '9b98b8c7a33c4b65b9aebfe6a799e6d9'}</td>\n",
       "      <td>0</td>\n",
       "    </tr>\n",
       "    <tr>\n",
       "      <th>1</th>\n",
       "      <td>1</td>\n",
       "      <td>a03223e636434f42ac4c3df47e8bac43</td>\n",
       "      <td>offer received</td>\n",
       "      <td>{'offer id': '0b1e1539f2cc45b7b9fa7c272da2e1d7'}</td>\n",
       "      <td>0</td>\n",
       "    </tr>\n",
       "    <tr>\n",
       "      <th>2</th>\n",
       "      <td>2</td>\n",
       "      <td>e2127556f4f64592b11af22de27a7932</td>\n",
       "      <td>offer received</td>\n",
       "      <td>{'offer id': '2906b810c7d4411798c6938adc9daaa5'}</td>\n",
       "      <td>0</td>\n",
       "    </tr>\n",
       "    <tr>\n",
       "      <th>3</th>\n",
       "      <td>3</td>\n",
       "      <td>8ec6ce2a7e7949b1bf142def7d0e0586</td>\n",
       "      <td>offer received</td>\n",
       "      <td>{'offer id': 'fafdcd668e3743c1bb461111dcafc2a4'}</td>\n",
       "      <td>0</td>\n",
       "    </tr>\n",
       "    <tr>\n",
       "      <th>4</th>\n",
       "      <td>4</td>\n",
       "      <td>68617ca6246f4fbc85e91a2a49552598</td>\n",
       "      <td>offer received</td>\n",
       "      <td>{'offer id': '4d5c57ea9a6940dd891ad53e9dbe8da0'}</td>\n",
       "      <td>0</td>\n",
       "    </tr>\n",
       "    <tr>\n",
       "      <th>5</th>\n",
       "      <td>5</td>\n",
       "      <td>389bc3fa690240e798340f5a15918d5c</td>\n",
       "      <td>offer received</td>\n",
       "      <td>{'offer id': 'f19421c1d4aa40978ebb69ca19b0e20d'}</td>\n",
       "      <td>0</td>\n",
       "    </tr>\n",
       "    <tr>\n",
       "      <th>6</th>\n",
       "      <td>6</td>\n",
       "      <td>c4863c7985cf408faee930f111475da3</td>\n",
       "      <td>offer received</td>\n",
       "      <td>{'offer id': '2298d6c36e964ae4a3e7e9706d1fb8c2'}</td>\n",
       "      <td>0</td>\n",
       "    </tr>\n",
       "    <tr>\n",
       "      <th>7</th>\n",
       "      <td>7</td>\n",
       "      <td>2eeac8d8feae4a8cad5a6af0499a211d</td>\n",
       "      <td>offer received</td>\n",
       "      <td>{'offer id': '3f207df678b143eea3cee63160fa8bed'}</td>\n",
       "      <td>0</td>\n",
       "    </tr>\n",
       "    <tr>\n",
       "      <th>8</th>\n",
       "      <td>8</td>\n",
       "      <td>aa4862eba776480b8bb9c68455b8c2e1</td>\n",
       "      <td>offer received</td>\n",
       "      <td>{'offer id': '0b1e1539f2cc45b7b9fa7c272da2e1d7'}</td>\n",
       "      <td>0</td>\n",
       "    </tr>\n",
       "    <tr>\n",
       "      <th>9</th>\n",
       "      <td>9</td>\n",
       "      <td>31dda685af34476cad5bc968bdb01c53</td>\n",
       "      <td>offer received</td>\n",
       "      <td>{'offer id': '0b1e1539f2cc45b7b9fa7c272da2e1d7'}</td>\n",
       "      <td>0</td>\n",
       "    </tr>\n",
       "  </tbody>\n",
       "</table>\n",
       "</div>"
      ],
      "text/plain": [
       "   Unnamed: 0                            person           event  \\\n",
       "0           0  78afa995795e4d85b5d9ceeca43f5fef  offer received   \n",
       "1           1  a03223e636434f42ac4c3df47e8bac43  offer received   \n",
       "2           2  e2127556f4f64592b11af22de27a7932  offer received   \n",
       "3           3  8ec6ce2a7e7949b1bf142def7d0e0586  offer received   \n",
       "4           4  68617ca6246f4fbc85e91a2a49552598  offer received   \n",
       "5           5  389bc3fa690240e798340f5a15918d5c  offer received   \n",
       "6           6  c4863c7985cf408faee930f111475da3  offer received   \n",
       "7           7  2eeac8d8feae4a8cad5a6af0499a211d  offer received   \n",
       "8           8  aa4862eba776480b8bb9c68455b8c2e1  offer received   \n",
       "9           9  31dda685af34476cad5bc968bdb01c53  offer received   \n",
       "\n",
       "                                              value  time  \n",
       "0  {'offer id': '9b98b8c7a33c4b65b9aebfe6a799e6d9'}     0  \n",
       "1  {'offer id': '0b1e1539f2cc45b7b9fa7c272da2e1d7'}     0  \n",
       "2  {'offer id': '2906b810c7d4411798c6938adc9daaa5'}     0  \n",
       "3  {'offer id': 'fafdcd668e3743c1bb461111dcafc2a4'}     0  \n",
       "4  {'offer id': '4d5c57ea9a6940dd891ad53e9dbe8da0'}     0  \n",
       "5  {'offer id': 'f19421c1d4aa40978ebb69ca19b0e20d'}     0  \n",
       "6  {'offer id': '2298d6c36e964ae4a3e7e9706d1fb8c2'}     0  \n",
       "7  {'offer id': '3f207df678b143eea3cee63160fa8bed'}     0  \n",
       "8  {'offer id': '0b1e1539f2cc45b7b9fa7c272da2e1d7'}     0  \n",
       "9  {'offer id': '0b1e1539f2cc45b7b9fa7c272da2e1d7'}     0  "
      ]
     },
     "execution_count": 6,
     "metadata": {},
     "output_type": "execute_result"
    }
   ],
   "source": [
    "transcript.head(10)"
   ]
  },
  {
   "cell_type": "code",
   "execution_count": 7,
   "id": "bb773eef",
   "metadata": {
    "colab": {
     "base_uri": "https://localhost:8080/"
    },
    "id": "bb773eef",
    "outputId": "3714007b-c02e-41f5-cf27-5fdce751323d"
   },
   "outputs": [
    {
     "name": "stdout",
     "output_type": "stream",
     "text": [
      "Column        Unique Values\n",
      "----------  ---------------\n",
      "Unnamed: 0           306534\n",
      "person                17000\n",
      "event                     4\n",
      "value                  5121\n",
      "time                    120\n"
     ]
    }
   ],
   "source": [
    "# Display the count of unique values for each column\n",
    "table = []\n",
    "for col in transcript.columns:\n",
    "    row = [col, transcript[col].nunique()]\n",
    "    table.append(row)\n",
    "print(tabulate(table, headers=['Column', 'Unique Values']))"
   ]
  },
  {
   "cell_type": "code",
   "execution_count": 8,
   "id": "0eebf3b6",
   "metadata": {
    "id": "0eebf3b6"
   },
   "outputs": [],
   "source": [
    "# Drop unnecessary columns\n",
    "transcript = transcript.drop(\"Unnamed: 0\", axis=1)"
   ]
  },
  {
   "cell_type": "code",
   "execution_count": 9,
   "id": "0ce3105c",
   "metadata": {
    "colab": {
     "base_uri": "https://localhost:8080/"
    },
    "id": "0ce3105c",
    "outputId": "5e30af91-d814-4627-ad3f-ed4d4c553745"
   },
   "outputs": [
    {
     "data": {
      "text/plain": [
       "transaction        138953\n",
       "offer received      76277\n",
       "offer viewed        57725\n",
       "offer completed     33579\n",
       "Name: event, dtype: int64"
      ]
     },
     "execution_count": 9,
     "metadata": {},
     "output_type": "execute_result"
    }
   ],
   "source": [
    "transcript['event'].value_counts()"
   ]
  },
  {
   "cell_type": "code",
   "execution_count": 10,
   "id": "79cab17c",
   "metadata": {
    "colab": {
     "base_uri": "https://localhost:8080/",
     "height": 300
    },
    "id": "79cab17c",
    "outputId": "e4f356f5-bb6f-4ae3-cb05-2e381d810a0e"
   },
   "outputs": [
    {
     "data": {
      "text/html": [
       "<div>\n",
       "<style scoped>\n",
       "    .dataframe tbody tr th:only-of-type {\n",
       "        vertical-align: middle;\n",
       "    }\n",
       "\n",
       "    .dataframe tbody tr th {\n",
       "        vertical-align: top;\n",
       "    }\n",
       "\n",
       "    .dataframe thead th {\n",
       "        text-align: right;\n",
       "    }\n",
       "</style>\n",
       "<table border=\"1\" class=\"dataframe\">\n",
       "  <thead>\n",
       "    <tr style=\"text-align: right;\">\n",
       "      <th></th>\n",
       "      <th>time</th>\n",
       "    </tr>\n",
       "  </thead>\n",
       "  <tbody>\n",
       "    <tr>\n",
       "      <th>count</th>\n",
       "      <td>306534.000000</td>\n",
       "    </tr>\n",
       "    <tr>\n",
       "      <th>mean</th>\n",
       "      <td>366.382940</td>\n",
       "    </tr>\n",
       "    <tr>\n",
       "      <th>std</th>\n",
       "      <td>200.326314</td>\n",
       "    </tr>\n",
       "    <tr>\n",
       "      <th>min</th>\n",
       "      <td>0.000000</td>\n",
       "    </tr>\n",
       "    <tr>\n",
       "      <th>25%</th>\n",
       "      <td>186.000000</td>\n",
       "    </tr>\n",
       "    <tr>\n",
       "      <th>50%</th>\n",
       "      <td>408.000000</td>\n",
       "    </tr>\n",
       "    <tr>\n",
       "      <th>75%</th>\n",
       "      <td>528.000000</td>\n",
       "    </tr>\n",
       "    <tr>\n",
       "      <th>max</th>\n",
       "      <td>714.000000</td>\n",
       "    </tr>\n",
       "  </tbody>\n",
       "</table>\n",
       "</div>"
      ],
      "text/plain": [
       "                time\n",
       "count  306534.000000\n",
       "mean      366.382940\n",
       "std       200.326314\n",
       "min         0.000000\n",
       "25%       186.000000\n",
       "50%       408.000000\n",
       "75%       528.000000\n",
       "max       714.000000"
      ]
     },
     "execution_count": 10,
     "metadata": {},
     "output_type": "execute_result"
    }
   ],
   "source": [
    "transcript.describe()"
   ]
  },
  {
   "cell_type": "code",
   "execution_count": 11,
   "id": "ff25a9e6",
   "metadata": {
    "id": "ff25a9e6"
   },
   "outputs": [],
   "source": [
    "# # Plot histograms for numerical columns\n",
    "# # for col in transcript.select_dtypes(include=\"number\").columns:\n",
    "#     sns.histplot(x=col, data=transcript, kde=True)\n",
    "#     plt.show()"
   ]
  },
  {
   "cell_type": "code",
   "execution_count": 12,
   "id": "feeb0a81",
   "metadata": {
    "colab": {
     "base_uri": "https://localhost:8080/"
    },
    "id": "feeb0a81",
    "outputId": "57788d71-c6eb-4db7-b156-c4083453d4e9"
   },
   "outputs": [
    {
     "name": "stdout",
     "output_type": "stream",
     "text": [
      "<class 'pandas.core.frame.DataFrame'>\n",
      "Int64Index: 17000 entries, 0 to 16999\n",
      "Data columns (total 6 columns):\n",
      " #   Column            Non-Null Count  Dtype         \n",
      "---  ------            --------------  -----         \n",
      " 0   Unnamed: 0        17000 non-null  int64         \n",
      " 1   gender            14825 non-null  object        \n",
      " 2   age               17000 non-null  int64         \n",
      " 3   id                17000 non-null  object        \n",
      " 4   became_member_on  17000 non-null  datetime64[ns]\n",
      " 5   income            14825 non-null  float64       \n",
      "dtypes: datetime64[ns](1), float64(1), int64(2), object(2)\n",
      "memory usage: 929.7+ KB\n"
     ]
    }
   ],
   "source": [
    "profile.info()"
   ]
  },
  {
   "cell_type": "code",
   "execution_count": 13,
   "id": "dd9df924",
   "metadata": {
    "colab": {
     "base_uri": "https://localhost:8080/",
     "height": 363
    },
    "id": "dd9df924",
    "outputId": "3b44ecdb-5556-42a2-c032-0d9843800e18"
   },
   "outputs": [
    {
     "data": {
      "text/html": [
       "<div>\n",
       "<style scoped>\n",
       "    .dataframe tbody tr th:only-of-type {\n",
       "        vertical-align: middle;\n",
       "    }\n",
       "\n",
       "    .dataframe tbody tr th {\n",
       "        vertical-align: top;\n",
       "    }\n",
       "\n",
       "    .dataframe thead th {\n",
       "        text-align: right;\n",
       "    }\n",
       "</style>\n",
       "<table border=\"1\" class=\"dataframe\">\n",
       "  <thead>\n",
       "    <tr style=\"text-align: right;\">\n",
       "      <th></th>\n",
       "      <th>Unnamed: 0</th>\n",
       "      <th>gender</th>\n",
       "      <th>age</th>\n",
       "      <th>id</th>\n",
       "      <th>became_member_on</th>\n",
       "      <th>income</th>\n",
       "    </tr>\n",
       "  </thead>\n",
       "  <tbody>\n",
       "    <tr>\n",
       "      <th>0</th>\n",
       "      <td>0</td>\n",
       "      <td>NaN</td>\n",
       "      <td>118</td>\n",
       "      <td>68be06ca386d4c31939f3a4f0e3dd783</td>\n",
       "      <td>2017-02-12</td>\n",
       "      <td>NaN</td>\n",
       "    </tr>\n",
       "    <tr>\n",
       "      <th>1</th>\n",
       "      <td>1</td>\n",
       "      <td>F</td>\n",
       "      <td>55</td>\n",
       "      <td>0610b486422d4921ae7d2bf64640c50b</td>\n",
       "      <td>2017-07-15</td>\n",
       "      <td>112000.0</td>\n",
       "    </tr>\n",
       "    <tr>\n",
       "      <th>2</th>\n",
       "      <td>2</td>\n",
       "      <td>NaN</td>\n",
       "      <td>118</td>\n",
       "      <td>38fe809add3b4fcf9315a9694bb96ff5</td>\n",
       "      <td>2018-07-12</td>\n",
       "      <td>NaN</td>\n",
       "    </tr>\n",
       "    <tr>\n",
       "      <th>3</th>\n",
       "      <td>3</td>\n",
       "      <td>F</td>\n",
       "      <td>75</td>\n",
       "      <td>78afa995795e4d85b5d9ceeca43f5fef</td>\n",
       "      <td>2017-05-09</td>\n",
       "      <td>100000.0</td>\n",
       "    </tr>\n",
       "    <tr>\n",
       "      <th>4</th>\n",
       "      <td>4</td>\n",
       "      <td>NaN</td>\n",
       "      <td>118</td>\n",
       "      <td>a03223e636434f42ac4c3df47e8bac43</td>\n",
       "      <td>2017-08-04</td>\n",
       "      <td>NaN</td>\n",
       "    </tr>\n",
       "    <tr>\n",
       "      <th>5</th>\n",
       "      <td>5</td>\n",
       "      <td>M</td>\n",
       "      <td>68</td>\n",
       "      <td>e2127556f4f64592b11af22de27a7932</td>\n",
       "      <td>2018-04-26</td>\n",
       "      <td>70000.0</td>\n",
       "    </tr>\n",
       "    <tr>\n",
       "      <th>6</th>\n",
       "      <td>6</td>\n",
       "      <td>NaN</td>\n",
       "      <td>118</td>\n",
       "      <td>8ec6ce2a7e7949b1bf142def7d0e0586</td>\n",
       "      <td>2017-09-25</td>\n",
       "      <td>NaN</td>\n",
       "    </tr>\n",
       "    <tr>\n",
       "      <th>7</th>\n",
       "      <td>7</td>\n",
       "      <td>NaN</td>\n",
       "      <td>118</td>\n",
       "      <td>68617ca6246f4fbc85e91a2a49552598</td>\n",
       "      <td>2017-10-02</td>\n",
       "      <td>NaN</td>\n",
       "    </tr>\n",
       "    <tr>\n",
       "      <th>8</th>\n",
       "      <td>8</td>\n",
       "      <td>M</td>\n",
       "      <td>65</td>\n",
       "      <td>389bc3fa690240e798340f5a15918d5c</td>\n",
       "      <td>2018-02-09</td>\n",
       "      <td>53000.0</td>\n",
       "    </tr>\n",
       "    <tr>\n",
       "      <th>9</th>\n",
       "      <td>9</td>\n",
       "      <td>NaN</td>\n",
       "      <td>118</td>\n",
       "      <td>8974fc5686fe429db53ddde067b88302</td>\n",
       "      <td>2016-11-22</td>\n",
       "      <td>NaN</td>\n",
       "    </tr>\n",
       "  </tbody>\n",
       "</table>\n",
       "</div>"
      ],
      "text/plain": [
       "   Unnamed: 0 gender  age                                id became_member_on  \\\n",
       "0           0    NaN  118  68be06ca386d4c31939f3a4f0e3dd783       2017-02-12   \n",
       "1           1      F   55  0610b486422d4921ae7d2bf64640c50b       2017-07-15   \n",
       "2           2    NaN  118  38fe809add3b4fcf9315a9694bb96ff5       2018-07-12   \n",
       "3           3      F   75  78afa995795e4d85b5d9ceeca43f5fef       2017-05-09   \n",
       "4           4    NaN  118  a03223e636434f42ac4c3df47e8bac43       2017-08-04   \n",
       "5           5      M   68  e2127556f4f64592b11af22de27a7932       2018-04-26   \n",
       "6           6    NaN  118  8ec6ce2a7e7949b1bf142def7d0e0586       2017-09-25   \n",
       "7           7    NaN  118  68617ca6246f4fbc85e91a2a49552598       2017-10-02   \n",
       "8           8      M   65  389bc3fa690240e798340f5a15918d5c       2018-02-09   \n",
       "9           9    NaN  118  8974fc5686fe429db53ddde067b88302       2016-11-22   \n",
       "\n",
       "     income  \n",
       "0       NaN  \n",
       "1  112000.0  \n",
       "2       NaN  \n",
       "3  100000.0  \n",
       "4       NaN  \n",
       "5   70000.0  \n",
       "6       NaN  \n",
       "7       NaN  \n",
       "8   53000.0  \n",
       "9       NaN  "
      ]
     },
     "execution_count": 13,
     "metadata": {},
     "output_type": "execute_result"
    }
   ],
   "source": [
    "profile.head(10)"
   ]
  },
  {
   "cell_type": "code",
   "execution_count": 14,
   "id": "304d6857",
   "metadata": {
    "colab": {
     "base_uri": "https://localhost:8080/"
    },
    "id": "304d6857",
    "outputId": "0800f6fa-fb25-4b98-bd3a-d089437559d9"
   },
   "outputs": [
    {
     "name": "stdout",
     "output_type": "stream",
     "text": [
      "Column              Unique Values\n",
      "----------------  ---------------\n",
      "Unnamed: 0                  17000\n",
      "gender                          3\n",
      "age                            85\n",
      "id                          17000\n",
      "became_member_on             1716\n",
      "income                         91\n"
     ]
    }
   ],
   "source": [
    "# Display the count of unique values for each column\n",
    "table = []\n",
    "for col in profile.columns:\n",
    "    row = [col, profile[col].nunique()]\n",
    "    table.append(row)\n",
    "print(tabulate(table, headers=['Column', 'Unique Values']))"
   ]
  },
  {
   "cell_type": "code",
   "execution_count": 15,
   "id": "b79456a8",
   "metadata": {
    "id": "b79456a8"
   },
   "outputs": [],
   "source": [
    "# Drop unnecessary columns\n",
    "profile = profile.drop(\"Unnamed: 0\", axis=1)"
   ]
  },
  {
   "cell_type": "code",
   "execution_count": 16,
   "id": "88357b7f",
   "metadata": {
    "colab": {
     "base_uri": "https://localhost:8080/"
    },
    "id": "88357b7f",
    "outputId": "ae4077a2-5eb0-41a0-98b9-399ea5550eae"
   },
   "outputs": [
    {
     "data": {
      "text/plain": [
       "M    8484\n",
       "F    6129\n",
       "O     212\n",
       "Name: gender, dtype: int64"
      ]
     },
     "execution_count": 16,
     "metadata": {},
     "output_type": "execute_result"
    }
   ],
   "source": [
    "# Display the count of unique values for each column\n",
    "profile['gender'].value_counts()"
   ]
  },
  {
   "cell_type": "code",
   "execution_count": 17,
   "id": "f82c9681",
   "metadata": {
    "colab": {
     "base_uri": "https://localhost:8080/",
     "height": 300
    },
    "id": "f82c9681",
    "outputId": "6427aa00-2f3f-4ba4-db8a-1328733917d1"
   },
   "outputs": [
    {
     "data": {
      "text/html": [
       "<div>\n",
       "<style scoped>\n",
       "    .dataframe tbody tr th:only-of-type {\n",
       "        vertical-align: middle;\n",
       "    }\n",
       "\n",
       "    .dataframe tbody tr th {\n",
       "        vertical-align: top;\n",
       "    }\n",
       "\n",
       "    .dataframe thead th {\n",
       "        text-align: right;\n",
       "    }\n",
       "</style>\n",
       "<table border=\"1\" class=\"dataframe\">\n",
       "  <thead>\n",
       "    <tr style=\"text-align: right;\">\n",
       "      <th></th>\n",
       "      <th>age</th>\n",
       "      <th>income</th>\n",
       "    </tr>\n",
       "  </thead>\n",
       "  <tbody>\n",
       "    <tr>\n",
       "      <th>count</th>\n",
       "      <td>17000.000000</td>\n",
       "      <td>14825.000000</td>\n",
       "    </tr>\n",
       "    <tr>\n",
       "      <th>mean</th>\n",
       "      <td>62.531412</td>\n",
       "      <td>65404.991568</td>\n",
       "    </tr>\n",
       "    <tr>\n",
       "      <th>std</th>\n",
       "      <td>26.738580</td>\n",
       "      <td>21598.299410</td>\n",
       "    </tr>\n",
       "    <tr>\n",
       "      <th>min</th>\n",
       "      <td>18.000000</td>\n",
       "      <td>30000.000000</td>\n",
       "    </tr>\n",
       "    <tr>\n",
       "      <th>25%</th>\n",
       "      <td>45.000000</td>\n",
       "      <td>49000.000000</td>\n",
       "    </tr>\n",
       "    <tr>\n",
       "      <th>50%</th>\n",
       "      <td>58.000000</td>\n",
       "      <td>64000.000000</td>\n",
       "    </tr>\n",
       "    <tr>\n",
       "      <th>75%</th>\n",
       "      <td>73.000000</td>\n",
       "      <td>80000.000000</td>\n",
       "    </tr>\n",
       "    <tr>\n",
       "      <th>max</th>\n",
       "      <td>118.000000</td>\n",
       "      <td>120000.000000</td>\n",
       "    </tr>\n",
       "  </tbody>\n",
       "</table>\n",
       "</div>"
      ],
      "text/plain": [
       "                age         income\n",
       "count  17000.000000   14825.000000\n",
       "mean      62.531412   65404.991568\n",
       "std       26.738580   21598.299410\n",
       "min       18.000000   30000.000000\n",
       "25%       45.000000   49000.000000\n",
       "50%       58.000000   64000.000000\n",
       "75%       73.000000   80000.000000\n",
       "max      118.000000  120000.000000"
      ]
     },
     "execution_count": 17,
     "metadata": {},
     "output_type": "execute_result"
    }
   ],
   "source": [
    "profile.describe()"
   ]
  },
  {
   "cell_type": "code",
   "execution_count": 18,
   "id": "52a27a86",
   "metadata": {
    "colab": {
     "base_uri": "https://localhost:8080/"
    },
    "id": "52a27a86",
    "outputId": "5877a1d9-08e8-4f58-b66f-3ea4efaa3cae"
   },
   "outputs": [
    {
     "data": {
      "text/plain": [
       "gender              2175\n",
       "age                    0\n",
       "id                     0\n",
       "became_member_on       0\n",
       "income              2175\n",
       "dtype: int64"
      ]
     },
     "execution_count": 18,
     "metadata": {},
     "output_type": "execute_result"
    }
   ],
   "source": [
    "profile.isna().sum()"
   ]
  },
  {
   "cell_type": "code",
   "execution_count": 19,
   "id": "258aedb2",
   "metadata": {
    "id": "258aedb2"
   },
   "outputs": [],
   "source": [
    "profile=profile.dropna()"
   ]
  },
  {
   "cell_type": "code",
   "execution_count": 20,
   "id": "6a2ec72e",
   "metadata": {
    "colab": {
     "base_uri": "https://localhost:8080/",
     "height": 991
    },
    "id": "6a2ec72e",
    "outputId": "ac0e2d97-6dbd-479e-afbc-07372d3d8762"
   },
   "outputs": [
    {
     "data": {
      "image/png": "[encoded data removed]",
      "text/plain": [
       "<Figure size 800x550 with 1 Axes>"
      ]
     },
     "metadata": {},
     "output_type": "display_data"
    },
    {
     "data": {
      "image/png": "[encoded data removed]",
      "text/plain": [
       "<Figure size 800x550 with 1 Axes>"
      ]
     },
     "metadata": {},
     "output_type": "display_data"
    }
   ],
   "source": [
    "# Plot histograms for numerical columns\n",
    "for col in profile.select_dtypes(include=\"number\").columns:\n",
    "    sns.histplot(x=col, data=profile, kde=True)\n",
    "    plt.show()"
   ]
  },
  {
   "cell_type": "code",
   "execution_count": 21,
   "id": "94763abd",
   "metadata": {
    "colab": {
     "base_uri": "https://localhost:8080/",
     "height": 504
    },
    "id": "94763abd",
    "outputId": "d45c5719-6403-42f7-fca2-6a54f4b0ae4d"
   },
   "outputs": [
    {
     "data": {
      "image/png": "[encoded data removed]",
      "text/plain": [
       "<Figure size 800x550 with 1 Axes>"
      ]
     },
     "metadata": {},
     "output_type": "display_data"
    }
   ],
   "source": [
    "for col in [profile['gender']]:\n",
    "    sns.countplot(x=col, data=profile)\n",
    "    plt.show()"
   ]
  },
  {
   "cell_type": "code",
   "execution_count": 22,
   "id": "7f8ca2c5",
   "metadata": {
    "colab": {
     "base_uri": "https://localhost:8080/",
     "height": 206
    },
    "id": "7f8ca2c5",
    "outputId": "081aa0bf-ecc4-4d06-e857-13d59637e241"
   },
   "outputs": [
    {
     "data": {
      "text/html": [
       "<div>\n",
       "<style scoped>\n",
       "    .dataframe tbody tr th:only-of-type {\n",
       "        vertical-align: middle;\n",
       "    }\n",
       "\n",
       "    .dataframe tbody tr th {\n",
       "        vertical-align: top;\n",
       "    }\n",
       "\n",
       "    .dataframe thead th {\n",
       "        text-align: right;\n",
       "    }\n",
       "</style>\n",
       "<table border=\"1\" class=\"dataframe\">\n",
       "  <thead>\n",
       "    <tr style=\"text-align: right;\">\n",
       "      <th></th>\n",
       "      <th>gender</th>\n",
       "      <th>age</th>\n",
       "      <th>id</th>\n",
       "      <th>became_member_on</th>\n",
       "      <th>income</th>\n",
       "    </tr>\n",
       "  </thead>\n",
       "  <tbody>\n",
       "    <tr>\n",
       "      <th>1556</th>\n",
       "      <td>F</td>\n",
       "      <td>101</td>\n",
       "      <td>4d2ccfcbbebf4bd9baf4b7e433d0e288</td>\n",
       "      <td>2017-10-04</td>\n",
       "      <td>43000.0</td>\n",
       "    </tr>\n",
       "    <tr>\n",
       "      <th>4100</th>\n",
       "      <td>F</td>\n",
       "      <td>101</td>\n",
       "      <td>d2fdc2be8ab64e4ba04830d441e53fd5</td>\n",
       "      <td>2015-05-26</td>\n",
       "      <td>99000.0</td>\n",
       "    </tr>\n",
       "    <tr>\n",
       "      <th>14846</th>\n",
       "      <td>F</td>\n",
       "      <td>101</td>\n",
       "      <td>e0ea90ddd2f147e082d21e97f51ec1b1</td>\n",
       "      <td>2017-11-09</td>\n",
       "      <td>56000.0</td>\n",
       "    </tr>\n",
       "    <tr>\n",
       "      <th>15800</th>\n",
       "      <td>F</td>\n",
       "      <td>101</td>\n",
       "      <td>047ad0135cfe4c0ea5ba019da4de9c52</td>\n",
       "      <td>2017-03-09</td>\n",
       "      <td>59000.0</td>\n",
       "    </tr>\n",
       "    <tr>\n",
       "      <th>16864</th>\n",
       "      <td>F</td>\n",
       "      <td>101</td>\n",
       "      <td>1593d617fac246ef8e50dbb0ffd77f5f</td>\n",
       "      <td>2017-11-27</td>\n",
       "      <td>82000.0</td>\n",
       "    </tr>\n",
       "  </tbody>\n",
       "</table>\n",
       "</div>"
      ],
      "text/plain": [
       "      gender  age                                id became_member_on   income\n",
       "1556       F  101  4d2ccfcbbebf4bd9baf4b7e433d0e288       2017-10-04  43000.0\n",
       "4100       F  101  d2fdc2be8ab64e4ba04830d441e53fd5       2015-05-26  99000.0\n",
       "14846      F  101  e0ea90ddd2f147e082d21e97f51ec1b1       2017-11-09  56000.0\n",
       "15800      F  101  047ad0135cfe4c0ea5ba019da4de9c52       2017-03-09  59000.0\n",
       "16864      F  101  1593d617fac246ef8e50dbb0ffd77f5f       2017-11-27  82000.0"
      ]
     },
     "execution_count": 22,
     "metadata": {},
     "output_type": "execute_result"
    }
   ],
   "source": [
    "profile[profile['age']>100]"
   ]
  },
  {
   "cell_type": "code",
   "execution_count": 23,
   "id": "f2b9f052",
   "metadata": {
    "colab": {
     "base_uri": "https://localhost:8080/"
    },
    "id": "f2b9f052",
    "outputId": "91499ba0-810f-45f6-d7b5-2ebb5e7d674a"
   },
   "outputs": [
    {
     "name": "stdout",
     "output_type": "stream",
     "text": [
      "Column      Outlier Percentage\n",
      "--------  --------------------\n",
      "age                          0\n",
      "income                       0\n"
     ]
    }
   ],
   "source": [
    "# Display percentage of outliers for each numerical column\n",
    "table = []\n",
    "Num_Columns=profile.select_dtypes(include=\"number\")\n",
    "for col in Num_Columns:\n",
    "    IQR = profile[col].quantile(0.75) - profile[col].quantile(0.25)\n",
    "    lower = profile[col].quantile(0.25) - 1.5 * IQR\n",
    "    upper = profile[col].quantile(0.75) + 1.5 * IQR\n",
    "    outlier = (profile[col] <= lower) | (profile[col] >= upper)\n",
    "    outlier_percentage = (profile[outlier].shape[0] / profile.shape[0]) * 100\n",
    "    row = [col, outlier_percentage]\n",
    "    table.append(row)\n",
    "print(tabulate(table, headers=['Column', 'Outlier Percentage']))"
   ]
  },
  {
   "cell_type": "code",
   "execution_count": 24,
   "id": "8ebc9fa7",
   "metadata": {
    "id": "8ebc9fa7"
   },
   "outputs": [],
   "source": [
    "table = []\n",
    "Num_Columns=profile.select_dtypes(include=\"number\")\n",
    "for col in Num_Columns:\n",
    "    IQR = profile[col].quantile(0.75) - profile[col].quantile(0.25)\n",
    "    lower = profile[col].quantile(0.25) - 1.5 * IQR\n",
    "    upper = profile[col].quantile(0.75) + 1.5 * IQR\n",
    "    outlier = (profile[col] <= lower) | (profile[col] >= upper)\n",
    "    profile.drop(profile[outlier].index, inplace=True)"
   ]
  },
  {
   "cell_type": "code",
   "execution_count": 25,
   "id": "5e4ba56f",
   "metadata": {
    "colab": {
     "base_uri": "https://localhost:8080/"
    },
    "id": "5e4ba56f",
    "outputId": "78d4a59e-5ed2-49ff-afe1-5f689bc053ec"
   },
   "outputs": [
    {
     "name": "stdout",
     "output_type": "stream",
     "text": [
      "<class 'pandas.core.frame.DataFrame'>\n",
      "Int64Index: 10 entries, 0 to 9\n",
      "Data columns (total 7 columns):\n",
      " #   Column      Non-Null Count  Dtype \n",
      "---  ------      --------------  ----- \n",
      " 0   Unnamed: 0  10 non-null     int64 \n",
      " 1   reward      10 non-null     int64 \n",
      " 2   channels    10 non-null     object\n",
      " 3   difficulty  10 non-null     int64 \n",
      " 4   duration    10 non-null     int64 \n",
      " 5   offer_type  10 non-null     object\n",
      " 6   id          10 non-null     object\n",
      "dtypes: int64(4), object(3)\n",
      "memory usage: 640.0+ bytes\n"
     ]
    }
   ],
   "source": [
    "portfolio.info()"
   ]
  },
  {
   "cell_type": "code",
   "execution_count": 26,
   "id": "4f6ddb7f",
   "metadata": {
    "colab": {
     "base_uri": "https://localhost:8080/",
     "height": 363
    },
    "id": "4f6ddb7f",
    "outputId": "d3656cb6-ef97-4263-ca05-227559fba9aa"
   },
   "outputs": [
    {
     "data": {
      "text/html": [
       "<div>\n",
       "<style scoped>\n",
       "    .dataframe tbody tr th:only-of-type {\n",
       "        vertical-align: middle;\n",
       "    }\n",
       "\n",
       "    .dataframe tbody tr th {\n",
       "        vertical-align: top;\n",
       "    }\n",
       "\n",
       "    .dataframe thead th {\n",
       "        text-align: right;\n",
       "    }\n",
       "</style>\n",
       "<table border=\"1\" class=\"dataframe\">\n",
       "  <thead>\n",
       "    <tr style=\"text-align: right;\">\n",
       "      <th></th>\n",
       "      <th>Unnamed: 0</th>\n",
       "      <th>reward</th>\n",
       "      <th>channels</th>\n",
       "      <th>difficulty</th>\n",
       "      <th>duration</th>\n",
       "      <th>offer_type</th>\n",
       "      <th>id</th>\n",
       "    </tr>\n",
       "  </thead>\n",
       "  <tbody>\n",
       "    <tr>\n",
       "      <th>0</th>\n",
       "      <td>0</td>\n",
       "      <td>10</td>\n",
       "      <td>['email', 'mobile', 'social']</td>\n",
       "      <td>10</td>\n",
       "      <td>7</td>\n",
       "      <td>bogo</td>\n",
       "      <td>ae264e3637204a6fb9bb56bc8210ddfd</td>\n",
       "    </tr>\n",
       "    <tr>\n",
       "      <th>1</th>\n",
       "      <td>1</td>\n",
       "      <td>10</td>\n",
       "      <td>['web', 'email', 'mobile', 'social']</td>\n",
       "      <td>10</td>\n",
       "      <td>5</td>\n",
       "      <td>bogo</td>\n",
       "      <td>4d5c57ea9a6940dd891ad53e9dbe8da0</td>\n",
       "    </tr>\n",
       "    <tr>\n",
       "      <th>2</th>\n",
       "      <td>2</td>\n",
       "      <td>0</td>\n",
       "      <td>['web', 'email', 'mobile']</td>\n",
       "      <td>0</td>\n",
       "      <td>4</td>\n",
       "      <td>informational</td>\n",
       "      <td>3f207df678b143eea3cee63160fa8bed</td>\n",
       "    </tr>\n",
       "    <tr>\n",
       "      <th>3</th>\n",
       "      <td>3</td>\n",
       "      <td>5</td>\n",
       "      <td>['web', 'email', 'mobile']</td>\n",
       "      <td>5</td>\n",
       "      <td>7</td>\n",
       "      <td>bogo</td>\n",
       "      <td>9b98b8c7a33c4b65b9aebfe6a799e6d9</td>\n",
       "    </tr>\n",
       "    <tr>\n",
       "      <th>4</th>\n",
       "      <td>4</td>\n",
       "      <td>5</td>\n",
       "      <td>['web', 'email']</td>\n",
       "      <td>20</td>\n",
       "      <td>10</td>\n",
       "      <td>discount</td>\n",
       "      <td>0b1e1539f2cc45b7b9fa7c272da2e1d7</td>\n",
       "    </tr>\n",
       "    <tr>\n",
       "      <th>5</th>\n",
       "      <td>5</td>\n",
       "      <td>3</td>\n",
       "      <td>['web', 'email', 'mobile', 'social']</td>\n",
       "      <td>7</td>\n",
       "      <td>7</td>\n",
       "      <td>discount</td>\n",
       "      <td>2298d6c36e964ae4a3e7e9706d1fb8c2</td>\n",
       "    </tr>\n",
       "    <tr>\n",
       "      <th>6</th>\n",
       "      <td>6</td>\n",
       "      <td>2</td>\n",
       "      <td>['web', 'email', 'mobile', 'social']</td>\n",
       "      <td>10</td>\n",
       "      <td>10</td>\n",
       "      <td>discount</td>\n",
       "      <td>fafdcd668e3743c1bb461111dcafc2a4</td>\n",
       "    </tr>\n",
       "    <tr>\n",
       "      <th>7</th>\n",
       "      <td>7</td>\n",
       "      <td>0</td>\n",
       "      <td>['email', 'mobile', 'social']</td>\n",
       "      <td>0</td>\n",
       "      <td>3</td>\n",
       "      <td>informational</td>\n",
       "      <td>5a8bc65990b245e5a138643cd4eb9837</td>\n",
       "    </tr>\n",
       "    <tr>\n",
       "      <th>8</th>\n",
       "      <td>8</td>\n",
       "      <td>5</td>\n",
       "      <td>['web', 'email', 'mobile', 'social']</td>\n",
       "      <td>5</td>\n",
       "      <td>5</td>\n",
       "      <td>bogo</td>\n",
       "      <td>f19421c1d4aa40978ebb69ca19b0e20d</td>\n",
       "    </tr>\n",
       "    <tr>\n",
       "      <th>9</th>\n",
       "      <td>9</td>\n",
       "      <td>2</td>\n",
       "      <td>['web', 'email', 'mobile']</td>\n",
       "      <td>10</td>\n",
       "      <td>7</td>\n",
       "      <td>discount</td>\n",
       "      <td>2906b810c7d4411798c6938adc9daaa5</td>\n",
       "    </tr>\n",
       "  </tbody>\n",
       "</table>\n",
       "</div>"
      ],
      "text/plain": [
       "   Unnamed: 0  reward                              channels  difficulty  \\\n",
       "0           0      10         ['email', 'mobile', 'social']          10   \n",
       "1           1      10  ['web', 'email', 'mobile', 'social']          10   \n",
       "2           2       0            ['web', 'email', 'mobile']           0   \n",
       "3           3       5            ['web', 'email', 'mobile']           5   \n",
       "4           4       5                      ['web', 'email']          20   \n",
       "5           5       3  ['web', 'email', 'mobile', 'social']           7   \n",
       "6           6       2  ['web', 'email', 'mobile', 'social']          10   \n",
       "7           7       0         ['email', 'mobile', 'social']           0   \n",
       "8           8       5  ['web', 'email', 'mobile', 'social']           5   \n",
       "9           9       2            ['web', 'email', 'mobile']          10   \n",
       "\n",
       "   duration     offer_type                                id  \n",
       "0         7           bogo  ae264e3637204a6fb9bb56bc8210ddfd  \n",
       "1         5           bogo  4d5c57ea9a6940dd891ad53e9dbe8da0  \n",
       "2         4  informational  3f207df678b143eea3cee63160fa8bed  \n",
       "3         7           bogo  9b98b8c7a33c4b65b9aebfe6a799e6d9  \n",
       "4        10       discount  0b1e1539f2cc45b7b9fa7c272da2e1d7  \n",
       "5         7       discount  2298d6c36e964ae4a3e7e9706d1fb8c2  \n",
       "6        10       discount  fafdcd668e3743c1bb461111dcafc2a4  \n",
       "7         3  informational  5a8bc65990b245e5a138643cd4eb9837  \n",
       "8         5           bogo  f19421c1d4aa40978ebb69ca19b0e20d  \n",
       "9         7       discount  2906b810c7d4411798c6938adc9daaa5  "
      ]
     },
     "execution_count": 26,
     "metadata": {},
     "output_type": "execute_result"
    }
   ],
   "source": [
    "portfolio.head(10)"
   ]
  },
  {
   "cell_type": "code",
   "execution_count": 27,
   "id": "5bc80789",
   "metadata": {
    "colab": {
     "base_uri": "https://localhost:8080/"
    },
    "id": "5bc80789",
    "outputId": "5ce6e784-16fd-47fa-8ecb-cccb8034de88"
   },
   "outputs": [
    {
     "name": "stdout",
     "output_type": "stream",
     "text": [
      "Column        Unique Values\n",
      "----------  ---------------\n",
      "Unnamed: 0               10\n",
      "reward                    5\n",
      "channels                  4\n",
      "difficulty                5\n",
      "duration                  5\n",
      "offer_type                3\n",
      "id                       10\n"
     ]
    }
   ],
   "source": [
    "# Display the count of unique values for each column\n",
    "table = []\n",
    "for col in portfolio.columns:\n",
    "    row = [col, portfolio[col].nunique()]\n",
    "    table.append(row)\n",
    "print(tabulate(table, headers=['Column', 'Unique Values']))"
   ]
  },
  {
   "cell_type": "code",
   "execution_count": 28,
   "id": "3c5037e0",
   "metadata": {
    "id": "3c5037e0"
   },
   "outputs": [],
   "source": [
    "# Drop unnecessary columns\n",
    "portfolio = portfolio.drop(\"Unnamed: 0\", axis=1)"
   ]
  },
  {
   "cell_type": "code",
   "execution_count": 29,
   "id": "0f722007",
   "metadata": {
    "colab": {
     "base_uri": "https://localhost:8080/",
     "height": 300
    },
    "id": "0f722007",
    "outputId": "852df3b8-16bf-449d-d1f6-2228cbbe7d05"
   },
   "outputs": [
    {
     "data": {
      "text/html": [
       "<div>\n",
       "<style scoped>\n",
       "    .dataframe tbody tr th:only-of-type {\n",
       "        vertical-align: middle;\n",
       "    }\n",
       "\n",
       "    .dataframe tbody tr th {\n",
       "        vertical-align: top;\n",
       "    }\n",
       "\n",
       "    .dataframe thead th {\n",
       "        text-align: right;\n",
       "    }\n",
       "</style>\n",
       "<table border=\"1\" class=\"dataframe\">\n",
       "  <thead>\n",
       "    <tr style=\"text-align: right;\">\n",
       "      <th></th>\n",
       "      <th>reward</th>\n",
       "      <th>difficulty</th>\n",
       "      <th>duration</th>\n",
       "    </tr>\n",
       "  </thead>\n",
       "  <tbody>\n",
       "    <tr>\n",
       "      <th>count</th>\n",
       "      <td>10.000000</td>\n",
       "      <td>10.000000</td>\n",
       "      <td>10.000000</td>\n",
       "    </tr>\n",
       "    <tr>\n",
       "      <th>mean</th>\n",
       "      <td>4.200000</td>\n",
       "      <td>7.700000</td>\n",
       "      <td>6.500000</td>\n",
       "    </tr>\n",
       "    <tr>\n",
       "      <th>std</th>\n",
       "      <td>3.583915</td>\n",
       "      <td>5.831905</td>\n",
       "      <td>2.321398</td>\n",
       "    </tr>\n",
       "    <tr>\n",
       "      <th>min</th>\n",
       "      <td>0.000000</td>\n",
       "      <td>0.000000</td>\n",
       "      <td>3.000000</td>\n",
       "    </tr>\n",
       "    <tr>\n",
       "      <th>25%</th>\n",
       "      <td>2.000000</td>\n",
       "      <td>5.000000</td>\n",
       "      <td>5.000000</td>\n",
       "    </tr>\n",
       "    <tr>\n",
       "      <th>50%</th>\n",
       "      <td>4.000000</td>\n",
       "      <td>8.500000</td>\n",
       "      <td>7.000000</td>\n",
       "    </tr>\n",
       "    <tr>\n",
       "      <th>75%</th>\n",
       "      <td>5.000000</td>\n",
       "      <td>10.000000</td>\n",
       "      <td>7.000000</td>\n",
       "    </tr>\n",
       "    <tr>\n",
       "      <th>max</th>\n",
       "      <td>10.000000</td>\n",
       "      <td>20.000000</td>\n",
       "      <td>10.000000</td>\n",
       "    </tr>\n",
       "  </tbody>\n",
       "</table>\n",
       "</div>"
      ],
      "text/plain": [
       "          reward  difficulty   duration\n",
       "count  10.000000   10.000000  10.000000\n",
       "mean    4.200000    7.700000   6.500000\n",
       "std     3.583915    5.831905   2.321398\n",
       "min     0.000000    0.000000   3.000000\n",
       "25%     2.000000    5.000000   5.000000\n",
       "50%     4.000000    8.500000   7.000000\n",
       "75%     5.000000   10.000000   7.000000\n",
       "max    10.000000   20.000000  10.000000"
      ]
     },
     "execution_count": 29,
     "metadata": {},
     "output_type": "execute_result"
    }
   ],
   "source": [
    "portfolio.describe()"
   ]
  },
  {
   "cell_type": "code",
   "execution_count": 30,
   "id": "345dcd67",
   "metadata": {
    "colab": {
     "base_uri": "https://localhost:8080/",
     "height": 1000
    },
    "id": "345dcd67",
    "outputId": "733031a7-1fe0-4dc3-8beb-c86a7d9408e8"
   },
   "outputs": [
    {
     "data": {
      "image/png": "[encoded data removed]",
      "text/plain": [
       "<Figure size 800x550 with 1 Axes>"
      ]
     },
     "metadata": {},
     "output_type": "display_data"
    },
    {
     "data": {
      "image/png": "[encoded data removed]",
      "text/plain": [
       "<Figure size 800x550 with 1 Axes>"
      ]
     },
     "metadata": {},
     "output_type": "display_data"
    },
    {
     "data": {
      "image/png": "[encoded data removed]",
      "text/plain": [
       "<Figure size 800x550 with 1 Axes>"
      ]
     },
     "metadata": {},
     "output_type": "display_data"
    }
   ],
   "source": [
    "# Plot histograms for numerical columns\n",
    "for col in portfolio.select_dtypes(include=\"number\").columns:\n",
    "    sns.countplot(x=col, data=portfolio)\n",
    "    plt.show()"
   ]
  },
  {
   "cell_type": "code",
   "execution_count": 31,
   "id": "a1c43fea",
   "metadata": {
    "colab": {
     "base_uri": "https://localhost:8080/",
     "height": 1000
    },
    "id": "a1c43fea",
    "outputId": "c5b5e244-092f-46ef-e02c-b14e9623bf9c"
   },
   "outputs": [
    {
     "data": {
      "image/png": "[encoded data removed]",
      "text/plain": [
       "<Figure size 800x550 with 1 Axes>"
      ]
     },
     "metadata": {},
     "output_type": "display_data"
    },
    {
     "data": {
      "image/png": "[encoded data removed]",
      "text/plain": [
       "<Figure size 800x550 with 1 Axes>"
      ]
     },
     "metadata": {},
     "output_type": "display_data"
    },
    {
     "data": {
      "image/png": "[encoded data removed]",
      "text/plain": [
       "<Figure size 800x550 with 1 Axes>"
      ]
     },
     "metadata": {},
     "output_type": "display_data"
    }
   ],
   "source": [
    "# Plot histograms for numerical columns\n",
    "for col in portfolio.select_dtypes(include=\"object\").columns:\n",
    "    sns.countplot(x=col, data=portfolio)\n",
    "    plt.show()"
   ]
  },
  {
   "cell_type": "code",
   "execution_count": 32,
   "id": "e0af9a03",
   "metadata": {
    "id": "e0af9a03"
   },
   "outputs": [],
   "source": [
    "profile['year'] = profile['became_member_on'].dt.year\n",
    "profile['month'] = profile['became_member_on'].dt.month\n",
    "profile['day']=profile['became_member_on'].dt.day_name()\n",
    "profile['member_since'] = (pd.to_datetime('today') - profile['became_member_on']).astype('timedelta64[D]').astype(int)"
   ]
  },
  {
   "cell_type": "code",
   "execution_count": 33,
   "id": "4ba99f0c",
   "metadata": {
    "id": "4ba99f0c"
   },
   "outputs": [],
   "source": [
    "profile['age_group'] = pd.cut(x=profile['age'], bins=[18, 20, 40, 60, 80, 101],\n",
    "                    labels=['Teenage(0-19)', 'young(20-39)', 'Middle-age(40-59)',\n",
    "                            'Old(60-79)', 'Very-Old(80-100)'], include_lowest=True)"
   ]
  },
  {
   "cell_type": "code",
   "execution_count": 34,
   "id": "612d0cce",
   "metadata": {
    "id": "612d0cce"
   },
   "outputs": [],
   "source": [
    "profile['income_group'] = pd.cut(x=profile['income'], bins=[0,50000, 60000, 70000, 80000, 90000, 100000, 200000],\n",
    "                    labels=['<50k', '50k-60k', '60k-70k',\n",
    "                            '70k-80k', '80k-90k', '90k-1L', '1L-2L'], include_lowest=True)"
   ]
  },
  {
   "cell_type": "code",
   "execution_count": 35,
   "id": "64f23c73",
   "metadata": {
    "colab": {
     "base_uri": "https://localhost:8080/",
     "height": 1000
    },
    "id": "64f23c73",
    "outputId": "66d1d825-c9f2-4e20-bfd1-f7e1eab16fb1",
    "scrolled": true
   },
   "outputs": [
    {
     "data": {
      "image/png": "[encoded data removed]",
      "text/plain": [
       "<Figure size 800x550 with 1 Axes>"
      ]
     },
     "metadata": {},
     "output_type": "display_data"
    },
    {
     "data": {
      "image/png": "[encoded data removed]",
      "text/plain": [
       "<Figure size 800x550 with 1 Axes>"
      ]
     },
     "metadata": {},
     "output_type": "display_data"
    },
    {
     "data": {
      "image/png": "[encoded data removed]",
      "text/plain": [
       "<Figure size 800x550 with 1 Axes>"
      ]
     },
     "metadata": {},
     "output_type": "display_data"
    },
    {
     "data": {
      "image/png": "[encoded data removed]",
      "text/plain": [
       "<Figure size 800x550 with 1 Axes>"
      ]
     },
     "metadata": {},
     "output_type": "display_data"
    },
    {
     "data": {
      "image/png": "[encoded data removed]",
      "text/plain": [
       "<Figure size 800x550 with 1 Axes>"
      ]
     },
     "metadata": {},
     "output_type": "display_data"
    }
   ],
   "source": [
    "for col in [profile['year'], profile['month'], profile['day'], profile['age_group'], profile['income_group']]:\n",
    "    sns.countplot(x=col, data=profile)\n",
    "    plt.show()"
   ]
  },
  {
   "cell_type": "code",
   "execution_count": 36,
   "id": "77209b08",
   "metadata": {
    "colab": {
     "base_uri": "https://localhost:8080/",
     "height": 504
    },
    "id": "77209b08",
    "outputId": "1ee11b7e-239b-4092-f45d-c12833eaefc3"
   },
   "outputs": [
    {
     "data": {
      "image/png": "[encoded data removed]",
      "text/plain": [
       "<Figure size 800x550 with 1 Axes>"
      ]
     },
     "metadata": {},
     "output_type": "display_data"
    }
   ],
   "source": [
    "sns.countplot(x=portfolio['channels'], data=profile)\n",
    "plt.show()"
   ]
  },
  {
   "cell_type": "code",
   "execution_count": 37,
   "id": "f603bd2f",
   "metadata": {
    "colab": {
     "base_uri": "https://localhost:8080/",
     "height": 504
    },
    "id": "f603bd2f",
    "outputId": "7cd75c28-3d7d-4e69-8ff3-a6eb62aaef50"
   },
   "outputs": [
    {
     "data": {
      "image/png": "[encoded data removed]",
      "text/plain": [
       "<Figure size 800x550 with 1 Axes>"
      ]
     },
     "metadata": {},
     "output_type": "display_data"
    }
   ],
   "source": [
    "sns.countplot(x=transcript['event'], data=transcript)\n",
    "plt.show()"
   ]
  },
  {
   "cell_type": "code",
   "execution_count": 38,
   "id": "Wrzp1Bwq-D8i",
   "metadata": {
    "id": "Wrzp1Bwq-D8i"
   },
   "outputs": [
    {
     "name": "stderr",
     "output_type": "stream",
     "text": [
      "C:\\Users\\welcome\\AppData\\Local\\Temp\\ipykernel_1516\\894847383.py:6: FutureWarning: The default value of regex will change from True to False in a future version.\n",
      "  transcript['value'] = transcript['value'].str.replace(substring, '')\n",
      "C:\\Users\\welcome\\AppData\\Local\\Temp\\ipykernel_1516\\894847383.py:6: FutureWarning: The default value of regex will change from True to False in a future version. In addition, single character regular expressions will *not* be treated as literal strings when regex=True.\n",
      "  transcript['value'] = transcript['value'].str.replace(substring, '')\n"
     ]
    }
   ],
   "source": [
    "# Define substrings to remove\n",
    "substrings_to_remove = [ \"'\", '{offer id: ', '{amount: ', '}', '{offer_id: ', ', reward: 2',', reward: 3',', reward: 5', ', reward: 5', ', reward: 2', ', reward: 10',', reward: 5', ', reward: 10']\n",
    "\n",
    "# Replace substrings with an empty string\n",
    "for substring in substrings_to_remove:\n",
    "    transcript['value'] = transcript['value'].str.replace(substring, '')"
   ]
  },
  {
   "cell_type": "code",
   "execution_count": 39,
   "id": "QcQhKCBydoHz",
   "metadata": {
    "colab": {
     "base_uri": "https://localhost:8080/"
    },
    "id": "QcQhKCBydoHz",
    "outputId": "13c869f5-5874-4bdb-a15d-0417ca4bd20f"
   },
   "outputs": [
    {
     "data": {
      "text/plain": [
       "person    0\n",
       "event     0\n",
       "value     0\n",
       "time      0\n",
       "dtype: int64"
      ]
     },
     "execution_count": 39,
     "metadata": {},
     "output_type": "execute_result"
    }
   ],
   "source": [
    "transcript.isna().sum()"
   ]
  },
  {
   "cell_type": "code",
   "execution_count": 40,
   "id": "5863435a",
   "metadata": {
    "colab": {
     "base_uri": "https://localhost:8080/"
    },
    "id": "5863435a",
    "outputId": "6b1681e9-3c57-4762-dcf2-edbb1d780d0e"
   },
   "outputs": [
    {
     "data": {
      "text/plain": [
       "reward        0\n",
       "channels      0\n",
       "difficulty    0\n",
       "duration      0\n",
       "offer_type    0\n",
       "id            0\n",
       "person        0\n",
       "event         0\n",
       "value         0\n",
       "time          0\n",
       "dtype: int64"
      ]
     },
     "execution_count": 40,
     "metadata": {},
     "output_type": "execute_result"
    }
   ],
   "source": [
    "transcript_offer_type=transcript[transcript['event'].isin(['offer received', 'offer viewed', 'offer completed'])]\n",
    "\n",
    "portfolio_transcript = portfolio.merge(right=transcript_offer_type, how='right', left_on='id', right_on='value')\n",
    "portfolio_transcript.isna().sum()"
   ]
  },
  {
   "cell_type": "code",
   "execution_count": 41,
   "id": "c7b43273",
   "metadata": {
    "id": "c7b43273"
   },
   "outputs": [],
   "source": [
    "portfolio_transcript.drop([\"id\"] , axis=1, inplace=True)"
   ]
  },
  {
   "cell_type": "code",
   "execution_count": 42,
   "id": "4feb677a",
   "metadata": {
    "colab": {
     "base_uri": "https://localhost:8080/"
    },
    "id": "4feb677a",
    "outputId": "107d0812-c86c-4c03-be36-7690fbd64cec"
   },
   "outputs": [
    {
     "data": {
      "text/plain": [
       "gender              0\n",
       "age                 0\n",
       "id                  0\n",
       "became_member_on    0\n",
       "income              0\n",
       "year                0\n",
       "month               0\n",
       "day                 0\n",
       "member_since        0\n",
       "age_group           0\n",
       "income_group        0\n",
       "reward              0\n",
       "channels            0\n",
       "difficulty          0\n",
       "duration            0\n",
       "offer_type          0\n",
       "person              0\n",
       "event               0\n",
       "value               0\n",
       "time                0\n",
       "dtype: int64"
      ]
     },
     "execution_count": 42,
     "metadata": {},
     "output_type": "execute_result"
    }
   ],
   "source": [
    "# transcript_offer_type=transcript[transcript['event'].isin(['offer received', 'offer viewed', 'offer completed'])]\n",
    "profile_transcript_portfolio = profile.merge(right=portfolio_transcript, how='inner', left_on='id', right_on='person')\n",
    "profile_transcript_portfolio.isna().sum()"
   ]
  },
  {
   "cell_type": "code",
   "execution_count": 44,
   "id": "g2lS5MmhHZqE",
   "metadata": {
    "id": "g2lS5MmhHZqE"
   },
   "outputs": [
    {
     "data": {
      "text/plain": [
       "Index(['gender', 'id', 'year', 'month', 'day', 'member_since', 'age_group',\n",
       "       'income_group', 'reward', 'channels', 'difficulty', 'duration',\n",
       "       'offer_type', 'person', 'event', 'value', 'time'],\n",
       "      dtype='object')"
      ]
     },
     "execution_count": 44,
     "metadata": {},
     "output_type": "execute_result"
    }
   ],
   "source": [
    "cust_data=profile_transcript_portfolio.drop([\"age\", \"became_member_on\", \"income\"] , axis=1)\n",
    "cust_data.columns"
   ]
  },
  {
   "cell_type": "code",
   "execution_count": 45,
   "id": "913660c8",
   "metadata": {},
   "outputs": [],
   "source": [
    "cust_data = cust_data.rename(columns={'member_since_how_manydays': 'member_since'})"
   ]
  },
  {
   "cell_type": "code",
   "execution_count": 46,
   "id": "92bjneHMZL8g",
   "metadata": {
    "colab": {
     "base_uri": "https://localhost:8080/"
    },
    "id": "92bjneHMZL8g",
    "outputId": "3dbc2f82-9e36-45b8-e449-33493c402dde"
   },
   "outputs": [
    {
     "data": {
      "text/html": [
       "<div>\n",
       "<style scoped>\n",
       "    .dataframe tbody tr th:only-of-type {\n",
       "        vertical-align: middle;\n",
       "    }\n",
       "\n",
       "    .dataframe tbody tr th {\n",
       "        vertical-align: top;\n",
       "    }\n",
       "\n",
       "    .dataframe thead th {\n",
       "        text-align: right;\n",
       "    }\n",
       "</style>\n",
       "<table border=\"1\" class=\"dataframe\">\n",
       "  <thead>\n",
       "    <tr style=\"text-align: right;\">\n",
       "      <th></th>\n",
       "      <th>gender</th>\n",
       "      <th>id</th>\n",
       "      <th>year</th>\n",
       "      <th>month</th>\n",
       "      <th>day</th>\n",
       "      <th>member_since</th>\n",
       "      <th>age_group</th>\n",
       "      <th>income_group</th>\n",
       "      <th>reward</th>\n",
       "      <th>channels</th>\n",
       "      <th>difficulty</th>\n",
       "      <th>duration</th>\n",
       "      <th>offer_type</th>\n",
       "      <th>person</th>\n",
       "      <th>event</th>\n",
       "      <th>value</th>\n",
       "      <th>time</th>\n",
       "    </tr>\n",
       "  </thead>\n",
       "  <tbody>\n",
       "    <tr>\n",
       "      <th>0</th>\n",
       "      <td>F</td>\n",
       "      <td>0610b486422d4921ae7d2bf64640c50b</td>\n",
       "      <td>2017</td>\n",
       "      <td>7</td>\n",
       "      <td>Saturday</td>\n",
       "      <td>2532</td>\n",
       "      <td>Middle-age(40-59)</td>\n",
       "      <td>1L-2L</td>\n",
       "      <td>5</td>\n",
       "      <td>['web', 'email', 'mobile']</td>\n",
       "      <td>5</td>\n",
       "      <td>7</td>\n",
       "      <td>bogo</td>\n",
       "      <td>0610b486422d4921ae7d2bf64640c50b</td>\n",
       "      <td>offer received</td>\n",
       "      <td>9b98b8c7a33c4b65b9aebfe6a799e6d9</td>\n",
       "      <td>408</td>\n",
       "    </tr>\n",
       "    <tr>\n",
       "      <th>1</th>\n",
       "      <td>F</td>\n",
       "      <td>0610b486422d4921ae7d2bf64640c50b</td>\n",
       "      <td>2017</td>\n",
       "      <td>7</td>\n",
       "      <td>Saturday</td>\n",
       "      <td>2532</td>\n",
       "      <td>Middle-age(40-59)</td>\n",
       "      <td>1L-2L</td>\n",
       "      <td>0</td>\n",
       "      <td>['web', 'email', 'mobile']</td>\n",
       "      <td>0</td>\n",
       "      <td>4</td>\n",
       "      <td>informational</td>\n",
       "      <td>0610b486422d4921ae7d2bf64640c50b</td>\n",
       "      <td>offer received</td>\n",
       "      <td>3f207df678b143eea3cee63160fa8bed</td>\n",
       "      <td>504</td>\n",
       "    </tr>\n",
       "    <tr>\n",
       "      <th>2</th>\n",
       "      <td>F</td>\n",
       "      <td>0610b486422d4921ae7d2bf64640c50b</td>\n",
       "      <td>2017</td>\n",
       "      <td>7</td>\n",
       "      <td>Saturday</td>\n",
       "      <td>2532</td>\n",
       "      <td>Middle-age(40-59)</td>\n",
       "      <td>1L-2L</td>\n",
       "      <td>5</td>\n",
       "      <td>['web', 'email', 'mobile']</td>\n",
       "      <td>5</td>\n",
       "      <td>7</td>\n",
       "      <td>bogo</td>\n",
       "      <td>0610b486422d4921ae7d2bf64640c50b</td>\n",
       "      <td>offer completed</td>\n",
       "      <td>9b98b8c7a33c4b65b9aebfe6a799e6d9</td>\n",
       "      <td>528</td>\n",
       "    </tr>\n",
       "    <tr>\n",
       "      <th>3</th>\n",
       "      <td>F</td>\n",
       "      <td>78afa995795e4d85b5d9ceeca43f5fef</td>\n",
       "      <td>2017</td>\n",
       "      <td>5</td>\n",
       "      <td>Tuesday</td>\n",
       "      <td>2599</td>\n",
       "      <td>Old(60-79)</td>\n",
       "      <td>90k-1L</td>\n",
       "      <td>5</td>\n",
       "      <td>['web', 'email', 'mobile']</td>\n",
       "      <td>5</td>\n",
       "      <td>7</td>\n",
       "      <td>bogo</td>\n",
       "      <td>78afa995795e4d85b5d9ceeca43f5fef</td>\n",
       "      <td>offer received</td>\n",
       "      <td>9b98b8c7a33c4b65b9aebfe6a799e6d9</td>\n",
       "      <td>0</td>\n",
       "    </tr>\n",
       "    <tr>\n",
       "      <th>4</th>\n",
       "      <td>F</td>\n",
       "      <td>78afa995795e4d85b5d9ceeca43f5fef</td>\n",
       "      <td>2017</td>\n",
       "      <td>5</td>\n",
       "      <td>Tuesday</td>\n",
       "      <td>2599</td>\n",
       "      <td>Old(60-79)</td>\n",
       "      <td>90k-1L</td>\n",
       "      <td>5</td>\n",
       "      <td>['web', 'email', 'mobile']</td>\n",
       "      <td>5</td>\n",
       "      <td>7</td>\n",
       "      <td>bogo</td>\n",
       "      <td>78afa995795e4d85b5d9ceeca43f5fef</td>\n",
       "      <td>offer viewed</td>\n",
       "      <td>9b98b8c7a33c4b65b9aebfe6a799e6d9</td>\n",
       "      <td>6</td>\n",
       "    </tr>\n",
       "  </tbody>\n",
       "</table>\n",
       "</div>"
      ],
      "text/plain": [
       "  gender                                id  year  month       day  \\\n",
       "0      F  0610b486422d4921ae7d2bf64640c50b  2017      7  Saturday   \n",
       "1      F  0610b486422d4921ae7d2bf64640c50b  2017      7  Saturday   \n",
       "2      F  0610b486422d4921ae7d2bf64640c50b  2017      7  Saturday   \n",
       "3      F  78afa995795e4d85b5d9ceeca43f5fef  2017      5   Tuesday   \n",
       "4      F  78afa995795e4d85b5d9ceeca43f5fef  2017      5   Tuesday   \n",
       "\n",
       "   member_since          age_group income_group  reward  \\\n",
       "0          2532  Middle-age(40-59)        1L-2L       5   \n",
       "1          2532  Middle-age(40-59)        1L-2L       0   \n",
       "2          2532  Middle-age(40-59)        1L-2L       5   \n",
       "3          2599         Old(60-79)       90k-1L       5   \n",
       "4          2599         Old(60-79)       90k-1L       5   \n",
       "\n",
       "                     channels  difficulty  duration     offer_type  \\\n",
       "0  ['web', 'email', 'mobile']           5         7           bogo   \n",
       "1  ['web', 'email', 'mobile']           0         4  informational   \n",
       "2  ['web', 'email', 'mobile']           5         7           bogo   \n",
       "3  ['web', 'email', 'mobile']           5         7           bogo   \n",
       "4  ['web', 'email', 'mobile']           5         7           bogo   \n",
       "\n",
       "                             person            event  \\\n",
       "0  0610b486422d4921ae7d2bf64640c50b   offer received   \n",
       "1  0610b486422d4921ae7d2bf64640c50b   offer received   \n",
       "2  0610b486422d4921ae7d2bf64640c50b  offer completed   \n",
       "3  78afa995795e4d85b5d9ceeca43f5fef   offer received   \n",
       "4  78afa995795e4d85b5d9ceeca43f5fef     offer viewed   \n",
       "\n",
       "                              value  time  \n",
       "0  9b98b8c7a33c4b65b9aebfe6a799e6d9   408  \n",
       "1  3f207df678b143eea3cee63160fa8bed   504  \n",
       "2  9b98b8c7a33c4b65b9aebfe6a799e6d9   528  \n",
       "3  9b98b8c7a33c4b65b9aebfe6a799e6d9     0  \n",
       "4  9b98b8c7a33c4b65b9aebfe6a799e6d9     6  "
      ]
     },
     "execution_count": 46,
     "metadata": {},
     "output_type": "execute_result"
    }
   ],
   "source": [
    "cust_data.head()"
   ]
  },
  {
   "cell_type": "code",
   "execution_count": 47,
   "id": "zZ65IxqPJFbQ",
   "metadata": {
    "id": "zZ65IxqPJFbQ"
   },
   "outputs": [],
   "source": [
    "cust_data_copy=cust_data.copy()"
   ]
  },
  {
   "cell_type": "code",
   "execution_count": 48,
   "id": "49b2d188",
   "metadata": {
    "colab": {
     "base_uri": "https://localhost:8080/",
     "height": 206
    },
    "id": "49b2d188",
    "outputId": "dae468f5-5790-4fd8-f47f-4541511694d5",
    "scrolled": true
   },
   "outputs": [
    {
     "data": {
      "text/html": [
       "<div>\n",
       "<style scoped>\n",
       "    .dataframe tbody tr th:only-of-type {\n",
       "        vertical-align: middle;\n",
       "    }\n",
       "\n",
       "    .dataframe tbody tr th {\n",
       "        vertical-align: top;\n",
       "    }\n",
       "\n",
       "    .dataframe thead th {\n",
       "        text-align: right;\n",
       "    }\n",
       "</style>\n",
       "<table border=\"1\" class=\"dataframe\">\n",
       "  <thead>\n",
       "    <tr style=\"text-align: right;\">\n",
       "      <th></th>\n",
       "      <th>gender</th>\n",
       "      <th>id</th>\n",
       "      <th>year</th>\n",
       "      <th>month</th>\n",
       "      <th>day</th>\n",
       "      <th>member_since</th>\n",
       "      <th>age_group</th>\n",
       "      <th>income_group</th>\n",
       "      <th>reward</th>\n",
       "      <th>channels</th>\n",
       "      <th>difficulty</th>\n",
       "      <th>duration</th>\n",
       "      <th>offer_type</th>\n",
       "      <th>person</th>\n",
       "      <th>event</th>\n",
       "      <th>value</th>\n",
       "      <th>time</th>\n",
       "    </tr>\n",
       "  </thead>\n",
       "  <tbody>\n",
       "    <tr>\n",
       "      <th>0</th>\n",
       "      <td>0</td>\n",
       "      <td>346</td>\n",
       "      <td>2017</td>\n",
       "      <td>7</td>\n",
       "      <td>2</td>\n",
       "      <td>2532</td>\n",
       "      <td>0</td>\n",
       "      <td>0</td>\n",
       "      <td>5</td>\n",
       "      <td>2</td>\n",
       "      <td>5</td>\n",
       "      <td>7</td>\n",
       "      <td>0</td>\n",
       "      <td>346</td>\n",
       "      <td>1</td>\n",
       "      <td>6</td>\n",
       "      <td>408</td>\n",
       "    </tr>\n",
       "    <tr>\n",
       "      <th>1</th>\n",
       "      <td>0</td>\n",
       "      <td>346</td>\n",
       "      <td>2017</td>\n",
       "      <td>7</td>\n",
       "      <td>2</td>\n",
       "      <td>2532</td>\n",
       "      <td>0</td>\n",
       "      <td>0</td>\n",
       "      <td>0</td>\n",
       "      <td>2</td>\n",
       "      <td>0</td>\n",
       "      <td>4</td>\n",
       "      <td>2</td>\n",
       "      <td>346</td>\n",
       "      <td>1</td>\n",
       "      <td>3</td>\n",
       "      <td>504</td>\n",
       "    </tr>\n",
       "    <tr>\n",
       "      <th>2</th>\n",
       "      <td>0</td>\n",
       "      <td>346</td>\n",
       "      <td>2017</td>\n",
       "      <td>7</td>\n",
       "      <td>2</td>\n",
       "      <td>2532</td>\n",
       "      <td>0</td>\n",
       "      <td>0</td>\n",
       "      <td>5</td>\n",
       "      <td>2</td>\n",
       "      <td>5</td>\n",
       "      <td>7</td>\n",
       "      <td>0</td>\n",
       "      <td>346</td>\n",
       "      <td>0</td>\n",
       "      <td>6</td>\n",
       "      <td>528</td>\n",
       "    </tr>\n",
       "    <tr>\n",
       "      <th>3</th>\n",
       "      <td>0</td>\n",
       "      <td>6960</td>\n",
       "      <td>2017</td>\n",
       "      <td>5</td>\n",
       "      <td>5</td>\n",
       "      <td>2599</td>\n",
       "      <td>1</td>\n",
       "      <td>5</td>\n",
       "      <td>5</td>\n",
       "      <td>2</td>\n",
       "      <td>5</td>\n",
       "      <td>7</td>\n",
       "      <td>0</td>\n",
       "      <td>6960</td>\n",
       "      <td>1</td>\n",
       "      <td>6</td>\n",
       "      <td>0</td>\n",
       "    </tr>\n",
       "    <tr>\n",
       "      <th>4</th>\n",
       "      <td>0</td>\n",
       "      <td>6960</td>\n",
       "      <td>2017</td>\n",
       "      <td>5</td>\n",
       "      <td>5</td>\n",
       "      <td>2599</td>\n",
       "      <td>1</td>\n",
       "      <td>5</td>\n",
       "      <td>5</td>\n",
       "      <td>2</td>\n",
       "      <td>5</td>\n",
       "      <td>7</td>\n",
       "      <td>0</td>\n",
       "      <td>6960</td>\n",
       "      <td>2</td>\n",
       "      <td>6</td>\n",
       "      <td>6</td>\n",
       "    </tr>\n",
       "  </tbody>\n",
       "</table>\n",
       "</div>"
      ],
      "text/plain": [
       "   gender    id  year  month  day  member_since  age_group  income_group  \\\n",
       "0       0   346  2017      7    2          2532          0             0   \n",
       "1       0   346  2017      7    2          2532          0             0   \n",
       "2       0   346  2017      7    2          2532          0             0   \n",
       "3       0  6960  2017      5    5          2599          1             5   \n",
       "4       0  6960  2017      5    5          2599          1             5   \n",
       "\n",
       "   reward  channels  difficulty  duration  offer_type  person  event  value  \\\n",
       "0       5         2           5         7           0     346      1      6   \n",
       "1       0         2           0         4           2     346      1      3   \n",
       "2       5         2           5         7           0     346      0      6   \n",
       "3       5         2           5         7           0    6960      1      6   \n",
       "4       5         2           5         7           0    6960      2      6   \n",
       "\n",
       "   time  \n",
       "0   408  \n",
       "1   504  \n",
       "2   528  \n",
       "3     0  \n",
       "4     6  "
      ]
     },
     "execution_count": 48,
     "metadata": {},
     "output_type": "execute_result"
    }
   ],
   "source": [
    "# Encode categorical variables\n",
    "cust_data_encoded = cust_data.copy()\n",
    "label_encoder = LabelEncoder()\n",
    "Cat_Columns=cust_data.select_dtypes(include=[\"object\",\"category\"]).columns\n",
    "for col in Cat_Columns:\n",
    "    cust_data_encoded[col] = label_encoder.fit_transform(cust_data[col])\n",
    "# cust_data_encoded = pd.get_dummies(cust_data_encoded)\n",
    "cust_data_encoded.head()"
   ]
  },
  {
   "cell_type": "code",
   "execution_count": 49,
   "id": "bc3fe25a",
   "metadata": {
    "colab": {
     "base_uri": "https://localhost:8080/",
     "height": 860
    },
    "id": "bc3fe25a",
    "outputId": "4e726db7-b810-44b5-b961-d5223931bc72"
   },
   "outputs": [
    {
     "data": {
      "text/html": [
       "<div>\n",
       "<style scoped>\n",
       "    .dataframe tbody tr th:only-of-type {\n",
       "        vertical-align: middle;\n",
       "    }\n",
       "\n",
       "    .dataframe tbody tr th {\n",
       "        vertical-align: top;\n",
       "    }\n",
       "\n",
       "    .dataframe thead th {\n",
       "        text-align: right;\n",
       "    }\n",
       "</style>\n",
       "<table border=\"1\" class=\"dataframe\">\n",
       "  <thead>\n",
       "    <tr style=\"text-align: right;\">\n",
       "      <th></th>\n",
       "      <th>gender</th>\n",
       "      <th>id</th>\n",
       "      <th>year</th>\n",
       "      <th>month</th>\n",
       "      <th>day</th>\n",
       "      <th>member_since</th>\n",
       "      <th>age_group</th>\n",
       "      <th>income_group</th>\n",
       "      <th>reward</th>\n",
       "      <th>channels</th>\n",
       "      <th>difficulty</th>\n",
       "      <th>duration</th>\n",
       "      <th>offer_type</th>\n",
       "      <th>person</th>\n",
       "      <th>event</th>\n",
       "      <th>value</th>\n",
       "      <th>time</th>\n",
       "    </tr>\n",
       "  </thead>\n",
       "  <tbody>\n",
       "    <tr>\n",
       "      <th>0</th>\n",
       "      <td>F</td>\n",
       "      <td>0610b486422d4921ae7d2bf64640c50b</td>\n",
       "      <td>2017</td>\n",
       "      <td>7</td>\n",
       "      <td>Saturday</td>\n",
       "      <td>2532</td>\n",
       "      <td>Middle-age(40-59)</td>\n",
       "      <td>1L-2L</td>\n",
       "      <td>5</td>\n",
       "      <td>['web', 'email', 'mobile']</td>\n",
       "      <td>5</td>\n",
       "      <td>7</td>\n",
       "      <td>bogo</td>\n",
       "      <td>0610b486422d4921ae7d2bf64640c50b</td>\n",
       "      <td>offer received</td>\n",
       "      <td>9b98b8c7a33c4b65b9aebfe6a799e6d9</td>\n",
       "      <td>408</td>\n",
       "    </tr>\n",
       "    <tr>\n",
       "      <th>1</th>\n",
       "      <td>F</td>\n",
       "      <td>0610b486422d4921ae7d2bf64640c50b</td>\n",
       "      <td>2017</td>\n",
       "      <td>7</td>\n",
       "      <td>Saturday</td>\n",
       "      <td>2532</td>\n",
       "      <td>Middle-age(40-59)</td>\n",
       "      <td>1L-2L</td>\n",
       "      <td>0</td>\n",
       "      <td>['web', 'email', 'mobile']</td>\n",
       "      <td>0</td>\n",
       "      <td>4</td>\n",
       "      <td>informational</td>\n",
       "      <td>0610b486422d4921ae7d2bf64640c50b</td>\n",
       "      <td>offer received</td>\n",
       "      <td>3f207df678b143eea3cee63160fa8bed</td>\n",
       "      <td>504</td>\n",
       "    </tr>\n",
       "    <tr>\n",
       "      <th>2</th>\n",
       "      <td>F</td>\n",
       "      <td>0610b486422d4921ae7d2bf64640c50b</td>\n",
       "      <td>2017</td>\n",
       "      <td>7</td>\n",
       "      <td>Saturday</td>\n",
       "      <td>2532</td>\n",
       "      <td>Middle-age(40-59)</td>\n",
       "      <td>1L-2L</td>\n",
       "      <td>5</td>\n",
       "      <td>['web', 'email', 'mobile']</td>\n",
       "      <td>5</td>\n",
       "      <td>7</td>\n",
       "      <td>bogo</td>\n",
       "      <td>0610b486422d4921ae7d2bf64640c50b</td>\n",
       "      <td>offer completed</td>\n",
       "      <td>9b98b8c7a33c4b65b9aebfe6a799e6d9</td>\n",
       "      <td>528</td>\n",
       "    </tr>\n",
       "    <tr>\n",
       "      <th>3</th>\n",
       "      <td>F</td>\n",
       "      <td>78afa995795e4d85b5d9ceeca43f5fef</td>\n",
       "      <td>2017</td>\n",
       "      <td>5</td>\n",
       "      <td>Tuesday</td>\n",
       "      <td>2599</td>\n",
       "      <td>Old(60-79)</td>\n",
       "      <td>90k-1L</td>\n",
       "      <td>5</td>\n",
       "      <td>['web', 'email', 'mobile']</td>\n",
       "      <td>5</td>\n",
       "      <td>7</td>\n",
       "      <td>bogo</td>\n",
       "      <td>78afa995795e4d85b5d9ceeca43f5fef</td>\n",
       "      <td>offer received</td>\n",
       "      <td>9b98b8c7a33c4b65b9aebfe6a799e6d9</td>\n",
       "      <td>0</td>\n",
       "    </tr>\n",
       "    <tr>\n",
       "      <th>4</th>\n",
       "      <td>F</td>\n",
       "      <td>78afa995795e4d85b5d9ceeca43f5fef</td>\n",
       "      <td>2017</td>\n",
       "      <td>5</td>\n",
       "      <td>Tuesday</td>\n",
       "      <td>2599</td>\n",
       "      <td>Old(60-79)</td>\n",
       "      <td>90k-1L</td>\n",
       "      <td>5</td>\n",
       "      <td>['web', 'email', 'mobile']</td>\n",
       "      <td>5</td>\n",
       "      <td>7</td>\n",
       "      <td>bogo</td>\n",
       "      <td>78afa995795e4d85b5d9ceeca43f5fef</td>\n",
       "      <td>offer viewed</td>\n",
       "      <td>9b98b8c7a33c4b65b9aebfe6a799e6d9</td>\n",
       "      <td>6</td>\n",
       "    </tr>\n",
       "    <tr>\n",
       "      <th>...</th>\n",
       "      <td>...</td>\n",
       "      <td>...</td>\n",
       "      <td>...</td>\n",
       "      <td>...</td>\n",
       "      <td>...</td>\n",
       "      <td>...</td>\n",
       "      <td>...</td>\n",
       "      <td>...</td>\n",
       "      <td>...</td>\n",
       "      <td>...</td>\n",
       "      <td>...</td>\n",
       "      <td>...</td>\n",
       "      <td>...</td>\n",
       "      <td>...</td>\n",
       "      <td>...</td>\n",
       "      <td>...</td>\n",
       "      <td>...</td>\n",
       "    </tr>\n",
       "    <tr>\n",
       "      <th>145</th>\n",
       "      <td>M</td>\n",
       "      <td>f806632c011441378d4646567f357a21</td>\n",
       "      <td>2013</td>\n",
       "      <td>8</td>\n",
       "      <td>Sunday</td>\n",
       "      <td>3966</td>\n",
       "      <td>Middle-age(40-59)</td>\n",
       "      <td>60k-70k</td>\n",
       "      <td>10</td>\n",
       "      <td>['web', 'email', 'mobile', 'social']</td>\n",
       "      <td>10</td>\n",
       "      <td>5</td>\n",
       "      <td>bogo</td>\n",
       "      <td>f806632c011441378d4646567f357a21</td>\n",
       "      <td>offer completed</td>\n",
       "      <td>4d5c57ea9a6940dd891ad53e9dbe8da0</td>\n",
       "      <td>210</td>\n",
       "    </tr>\n",
       "    <tr>\n",
       "      <th>146</th>\n",
       "      <td>M</td>\n",
       "      <td>f806632c011441378d4646567f357a21</td>\n",
       "      <td>2013</td>\n",
       "      <td>8</td>\n",
       "      <td>Sunday</td>\n",
       "      <td>3966</td>\n",
       "      <td>Middle-age(40-59)</td>\n",
       "      <td>60k-70k</td>\n",
       "      <td>2</td>\n",
       "      <td>['web', 'email', 'mobile', 'social']</td>\n",
       "      <td>10</td>\n",
       "      <td>10</td>\n",
       "      <td>discount</td>\n",
       "      <td>f806632c011441378d4646567f357a21</td>\n",
       "      <td>offer received</td>\n",
       "      <td>fafdcd668e3743c1bb461111dcafc2a4</td>\n",
       "      <td>408</td>\n",
       "    </tr>\n",
       "    <tr>\n",
       "      <th>147</th>\n",
       "      <td>M</td>\n",
       "      <td>f806632c011441378d4646567f357a21</td>\n",
       "      <td>2013</td>\n",
       "      <td>8</td>\n",
       "      <td>Sunday</td>\n",
       "      <td>3966</td>\n",
       "      <td>Middle-age(40-59)</td>\n",
       "      <td>60k-70k</td>\n",
       "      <td>2</td>\n",
       "      <td>['web', 'email', 'mobile', 'social']</td>\n",
       "      <td>10</td>\n",
       "      <td>10</td>\n",
       "      <td>discount</td>\n",
       "      <td>f806632c011441378d4646567f357a21</td>\n",
       "      <td>offer viewed</td>\n",
       "      <td>fafdcd668e3743c1bb461111dcafc2a4</td>\n",
       "      <td>408</td>\n",
       "    </tr>\n",
       "    <tr>\n",
       "      <th>148</th>\n",
       "      <td>M</td>\n",
       "      <td>f806632c011441378d4646567f357a21</td>\n",
       "      <td>2013</td>\n",
       "      <td>8</td>\n",
       "      <td>Sunday</td>\n",
       "      <td>3966</td>\n",
       "      <td>Middle-age(40-59)</td>\n",
       "      <td>60k-70k</td>\n",
       "      <td>2</td>\n",
       "      <td>['web', 'email', 'mobile', 'social']</td>\n",
       "      <td>10</td>\n",
       "      <td>10</td>\n",
       "      <td>discount</td>\n",
       "      <td>f806632c011441378d4646567f357a21</td>\n",
       "      <td>offer completed</td>\n",
       "      <td>fafdcd668e3743c1bb461111dcafc2a4</td>\n",
       "      <td>462</td>\n",
       "    </tr>\n",
       "    <tr>\n",
       "      <th>149</th>\n",
       "      <td>M</td>\n",
       "      <td>f806632c011441378d4646567f357a21</td>\n",
       "      <td>2013</td>\n",
       "      <td>8</td>\n",
       "      <td>Sunday</td>\n",
       "      <td>3966</td>\n",
       "      <td>Middle-age(40-59)</td>\n",
       "      <td>60k-70k</td>\n",
       "      <td>0</td>\n",
       "      <td>['web', 'email', 'mobile']</td>\n",
       "      <td>0</td>\n",
       "      <td>4</td>\n",
       "      <td>informational</td>\n",
       "      <td>f806632c011441378d4646567f357a21</td>\n",
       "      <td>offer received</td>\n",
       "      <td>3f207df678b143eea3cee63160fa8bed</td>\n",
       "      <td>576</td>\n",
       "    </tr>\n",
       "  </tbody>\n",
       "</table>\n",
       "<p>150 rows × 17 columns</p>\n",
       "</div>"
      ],
      "text/plain": [
       "    gender                                id  year  month       day  \\\n",
       "0        F  0610b486422d4921ae7d2bf64640c50b  2017      7  Saturday   \n",
       "1        F  0610b486422d4921ae7d2bf64640c50b  2017      7  Saturday   \n",
       "2        F  0610b486422d4921ae7d2bf64640c50b  2017      7  Saturday   \n",
       "3        F  78afa995795e4d85b5d9ceeca43f5fef  2017      5   Tuesday   \n",
       "4        F  78afa995795e4d85b5d9ceeca43f5fef  2017      5   Tuesday   \n",
       "..     ...                               ...   ...    ...       ...   \n",
       "145      M  f806632c011441378d4646567f357a21  2013      8    Sunday   \n",
       "146      M  f806632c011441378d4646567f357a21  2013      8    Sunday   \n",
       "147      M  f806632c011441378d4646567f357a21  2013      8    Sunday   \n",
       "148      M  f806632c011441378d4646567f357a21  2013      8    Sunday   \n",
       "149      M  f806632c011441378d4646567f357a21  2013      8    Sunday   \n",
       "\n",
       "     member_since          age_group income_group  reward  \\\n",
       "0            2532  Middle-age(40-59)        1L-2L       5   \n",
       "1            2532  Middle-age(40-59)        1L-2L       0   \n",
       "2            2532  Middle-age(40-59)        1L-2L       5   \n",
       "3            2599         Old(60-79)       90k-1L       5   \n",
       "4            2599         Old(60-79)       90k-1L       5   \n",
       "..            ...                ...          ...     ...   \n",
       "145          3966  Middle-age(40-59)      60k-70k      10   \n",
       "146          3966  Middle-age(40-59)      60k-70k       2   \n",
       "147          3966  Middle-age(40-59)      60k-70k       2   \n",
       "148          3966  Middle-age(40-59)      60k-70k       2   \n",
       "149          3966  Middle-age(40-59)      60k-70k       0   \n",
       "\n",
       "                                 channels  difficulty  duration  \\\n",
       "0              ['web', 'email', 'mobile']           5         7   \n",
       "1              ['web', 'email', 'mobile']           0         4   \n",
       "2              ['web', 'email', 'mobile']           5         7   \n",
       "3              ['web', 'email', 'mobile']           5         7   \n",
       "4              ['web', 'email', 'mobile']           5         7   \n",
       "..                                    ...         ...       ...   \n",
       "145  ['web', 'email', 'mobile', 'social']          10         5   \n",
       "146  ['web', 'email', 'mobile', 'social']          10        10   \n",
       "147  ['web', 'email', 'mobile', 'social']          10        10   \n",
       "148  ['web', 'email', 'mobile', 'social']          10        10   \n",
       "149            ['web', 'email', 'mobile']           0         4   \n",
       "\n",
       "        offer_type                            person            event  \\\n",
       "0             bogo  0610b486422d4921ae7d2bf64640c50b   offer received   \n",
       "1    informational  0610b486422d4921ae7d2bf64640c50b   offer received   \n",
       "2             bogo  0610b486422d4921ae7d2bf64640c50b  offer completed   \n",
       "3             bogo  78afa995795e4d85b5d9ceeca43f5fef   offer received   \n",
       "4             bogo  78afa995795e4d85b5d9ceeca43f5fef     offer viewed   \n",
       "..             ...                               ...              ...   \n",
       "145           bogo  f806632c011441378d4646567f357a21  offer completed   \n",
       "146       discount  f806632c011441378d4646567f357a21   offer received   \n",
       "147       discount  f806632c011441378d4646567f357a21     offer viewed   \n",
       "148       discount  f806632c011441378d4646567f357a21  offer completed   \n",
       "149  informational  f806632c011441378d4646567f357a21   offer received   \n",
       "\n",
       "                                value  time  \n",
       "0    9b98b8c7a33c4b65b9aebfe6a799e6d9   408  \n",
       "1    3f207df678b143eea3cee63160fa8bed   504  \n",
       "2    9b98b8c7a33c4b65b9aebfe6a799e6d9   528  \n",
       "3    9b98b8c7a33c4b65b9aebfe6a799e6d9     0  \n",
       "4    9b98b8c7a33c4b65b9aebfe6a799e6d9     6  \n",
       "..                                ...   ...  \n",
       "145  4d5c57ea9a6940dd891ad53e9dbe8da0   210  \n",
       "146  fafdcd668e3743c1bb461111dcafc2a4   408  \n",
       "147  fafdcd668e3743c1bb461111dcafc2a4   408  \n",
       "148  fafdcd668e3743c1bb461111dcafc2a4   462  \n",
       "149  3f207df678b143eea3cee63160fa8bed   576  \n",
       "\n",
       "[150 rows x 17 columns]"
      ]
     },
     "execution_count": 49,
     "metadata": {},
     "output_type": "execute_result"
    }
   ],
   "source": [
    "cust_data_copy.head(150)"
   ]
  },
  {
   "cell_type": "code",
   "execution_count": 50,
   "id": "849571f0",
   "metadata": {
    "id": "849571f0"
   },
   "outputs": [],
   "source": [
    "# Scale numerical variables using MinMaxScaler\n",
    "cust_data_scaled = cust_data_encoded.copy()\n",
    "scaler = MinMaxScaler()\n",
    "Columns = cust_data_encoded.columns\n",
    "for col in Columns:\n",
    "    cust_data_scaled[col] = scaler.fit_transform(cust_data_encoded[[col]])"
   ]
  },
  {
   "cell_type": "code",
   "execution_count": 51,
   "id": "10bb03df",
   "metadata": {
    "colab": {
     "base_uri": "https://localhost:8080/",
     "height": 226
    },
    "id": "10bb03df",
    "outputId": "bf811f88-d408-4af0-80fd-9a023354267b"
   },
   "outputs": [
    {
     "data": {
      "text/html": [
       "<div>\n",
       "<style scoped>\n",
       "    .dataframe tbody tr th:only-of-type {\n",
       "        vertical-align: middle;\n",
       "    }\n",
       "\n",
       "    .dataframe tbody tr th {\n",
       "        vertical-align: top;\n",
       "    }\n",
       "\n",
       "    .dataframe thead th {\n",
       "        text-align: right;\n",
       "    }\n",
       "</style>\n",
       "<table border=\"1\" class=\"dataframe\">\n",
       "  <thead>\n",
       "    <tr style=\"text-align: right;\">\n",
       "      <th></th>\n",
       "      <th>gender</th>\n",
       "      <th>id</th>\n",
       "      <th>year</th>\n",
       "      <th>month</th>\n",
       "      <th>day</th>\n",
       "      <th>member_since</th>\n",
       "      <th>age_group</th>\n",
       "      <th>income_group</th>\n",
       "      <th>reward</th>\n",
       "      <th>channels</th>\n",
       "      <th>difficulty</th>\n",
       "      <th>duration</th>\n",
       "      <th>offer_type</th>\n",
       "      <th>person</th>\n",
       "      <th>event</th>\n",
       "      <th>value</th>\n",
       "      <th>time</th>\n",
       "    </tr>\n",
       "  </thead>\n",
       "  <tbody>\n",
       "    <tr>\n",
       "      <th>0</th>\n",
       "      <td>0.0</td>\n",
       "      <td>0.023348</td>\n",
       "      <td>0.8</td>\n",
       "      <td>0.545455</td>\n",
       "      <td>0.333333</td>\n",
       "      <td>0.206253</td>\n",
       "      <td>0.00</td>\n",
       "      <td>0.000000</td>\n",
       "      <td>0.5</td>\n",
       "      <td>0.666667</td>\n",
       "      <td>0.25</td>\n",
       "      <td>0.571429</td>\n",
       "      <td>0.0</td>\n",
       "      <td>0.023348</td>\n",
       "      <td>0.5</td>\n",
       "      <td>0.666667</td>\n",
       "      <td>0.571429</td>\n",
       "    </tr>\n",
       "    <tr>\n",
       "      <th>1</th>\n",
       "      <td>0.0</td>\n",
       "      <td>0.023348</td>\n",
       "      <td>0.8</td>\n",
       "      <td>0.545455</td>\n",
       "      <td>0.333333</td>\n",
       "      <td>0.206253</td>\n",
       "      <td>0.00</td>\n",
       "      <td>0.000000</td>\n",
       "      <td>0.0</td>\n",
       "      <td>0.666667</td>\n",
       "      <td>0.00</td>\n",
       "      <td>0.142857</td>\n",
       "      <td>1.0</td>\n",
       "      <td>0.023348</td>\n",
       "      <td>0.5</td>\n",
       "      <td>0.333333</td>\n",
       "      <td>0.705882</td>\n",
       "    </tr>\n",
       "    <tr>\n",
       "      <th>2</th>\n",
       "      <td>0.0</td>\n",
       "      <td>0.023348</td>\n",
       "      <td>0.8</td>\n",
       "      <td>0.545455</td>\n",
       "      <td>0.333333</td>\n",
       "      <td>0.206253</td>\n",
       "      <td>0.00</td>\n",
       "      <td>0.000000</td>\n",
       "      <td>0.5</td>\n",
       "      <td>0.666667</td>\n",
       "      <td>0.25</td>\n",
       "      <td>0.571429</td>\n",
       "      <td>0.0</td>\n",
       "      <td>0.023348</td>\n",
       "      <td>0.0</td>\n",
       "      <td>0.666667</td>\n",
       "      <td>0.739496</td>\n",
       "    </tr>\n",
       "    <tr>\n",
       "      <th>3</th>\n",
       "      <td>0.0</td>\n",
       "      <td>0.469667</td>\n",
       "      <td>0.8</td>\n",
       "      <td>0.363636</td>\n",
       "      <td>0.833333</td>\n",
       "      <td>0.243006</td>\n",
       "      <td>0.25</td>\n",
       "      <td>0.833333</td>\n",
       "      <td>0.5</td>\n",
       "      <td>0.666667</td>\n",
       "      <td>0.25</td>\n",
       "      <td>0.571429</td>\n",
       "      <td>0.0</td>\n",
       "      <td>0.469667</td>\n",
       "      <td>0.5</td>\n",
       "      <td>0.666667</td>\n",
       "      <td>0.000000</td>\n",
       "    </tr>\n",
       "    <tr>\n",
       "      <th>4</th>\n",
       "      <td>0.0</td>\n",
       "      <td>0.469667</td>\n",
       "      <td>0.8</td>\n",
       "      <td>0.363636</td>\n",
       "      <td>0.833333</td>\n",
       "      <td>0.243006</td>\n",
       "      <td>0.25</td>\n",
       "      <td>0.833333</td>\n",
       "      <td>0.5</td>\n",
       "      <td>0.666667</td>\n",
       "      <td>0.25</td>\n",
       "      <td>0.571429</td>\n",
       "      <td>0.0</td>\n",
       "      <td>0.469667</td>\n",
       "      <td>1.0</td>\n",
       "      <td>0.666667</td>\n",
       "      <td>0.008403</td>\n",
       "    </tr>\n",
       "  </tbody>\n",
       "</table>\n",
       "</div>"
      ],
      "text/plain": [
       "   gender        id  year     month       day  member_since  age_group  \\\n",
       "0     0.0  0.023348   0.8  0.545455  0.333333      0.206253       0.00   \n",
       "1     0.0  0.023348   0.8  0.545455  0.333333      0.206253       0.00   \n",
       "2     0.0  0.023348   0.8  0.545455  0.333333      0.206253       0.00   \n",
       "3     0.0  0.469667   0.8  0.363636  0.833333      0.243006       0.25   \n",
       "4     0.0  0.469667   0.8  0.363636  0.833333      0.243006       0.25   \n",
       "\n",
       "   income_group  reward  channels  difficulty  duration  offer_type    person  \\\n",
       "0      0.000000     0.5  0.666667        0.25  0.571429         0.0  0.023348   \n",
       "1      0.000000     0.0  0.666667        0.00  0.142857         1.0  0.023348   \n",
       "2      0.000000     0.5  0.666667        0.25  0.571429         0.0  0.023348   \n",
       "3      0.833333     0.5  0.666667        0.25  0.571429         0.0  0.469667   \n",
       "4      0.833333     0.5  0.666667        0.25  0.571429         0.0  0.469667   \n",
       "\n",
       "   event     value      time  \n",
       "0    0.5  0.666667  0.571429  \n",
       "1    0.5  0.333333  0.705882  \n",
       "2    0.0  0.666667  0.739496  \n",
       "3    0.5  0.666667  0.000000  \n",
       "4    1.0  0.666667  0.008403  "
      ]
     },
     "execution_count": 51,
     "metadata": {},
     "output_type": "execute_result"
    }
   ],
   "source": [
    "cust_data_scaled.head()"
   ]
  },
  {
   "cell_type": "code",
   "execution_count": null,
   "id": "f3873146",
   "metadata": {
    "colab": {
     "base_uri": "https://localhost:8080/",
     "height": 941
    },
    "id": "f3873146",
    "outputId": "9873fa92-850f-4f21-c8fc-b2cda679956c"
   },
   "outputs": [],
   "source": [
    "# Visualize the elbow method to find optimal K in KMeans\n",
    "plt.figure(figsize=(15, 5))\n",
    "Elbow_M = KElbowVisualizer(KMeans(), k=(2, 15))\n",
    "Elbow_M.fit(cust_data_scaled)\n",
    "Elbow_M.show()"
   ]
  },
  {
   "cell_type": "code",
   "execution_count": null,
   "id": "e286a1ef",
   "metadata": {
    "colab": {
     "base_uri": "https://localhost:8080/",
     "height": 129
    },
    "id": "e286a1ef",
    "outputId": "099e010e-5a82-4f84-a258-7c55c4430b06"
   },
   "outputs": [],
   "source": [
    "# Apply KMeans clustering with obtained K\n",
    "model = KMeans(n_clusters=6)\n",
    "model.fit(cust_data_scaled)\n",
    "# profile_transcript_copy[\"cluster\"] = model.labels_"
   ]
  },
  {
   "cell_type": "code",
   "execution_count": null,
   "id": "8dd18eba",
   "metadata": {
    "id": "8dd18eba"
   },
   "outputs": [],
   "source": [
    "# Reduce dimensionality using PCA\n",
    "pca = PCA(n_components=2)\n",
    "embedding = pca.fit_transform(cust_data_scaled)\n",
    "projection = pd.DataFrame(columns=['x', 'y'], data=embedding)\n",
    "projection['Age_group'] = cust_data_copy['age_group']\n",
    "projection['Income'] = cust_data_copy['income_group']\n",
    "projection['cluster'] = model.labels_"
   ]
  },
  {
   "cell_type": "code",
   "execution_count": null,
   "id": "fff85427",
   "metadata": {
    "colab": {
     "base_uri": "https://localhost:8080/",
     "height": 542
    },
    "id": "fff85427",
    "outputId": "ec6b1654-7a8f-4223-f02a-1883a97be025"
   },
   "outputs": [],
   "source": [
    "# Visualize clusters using scatter plot\n",
    "fig = px.scatter(projection, x='x', y='y', color=model.labels_, hover_data=['Age_group', 'Income', 'cluster'])\n",
    "fig.show()"
   ]
  },
  {
   "cell_type": "code",
   "execution_count": null,
   "id": "961ad1f3",
   "metadata": {
    "id": "961ad1f3"
   },
   "outputs": [],
   "source": [
    "cust_data_copy[\"cluster\"]=model.labels_"
   ]
  },
  {
   "cell_type": "code",
   "execution_count": null,
   "id": "pwmgxkpK0-QI",
   "metadata": {
    "colab": {
     "base_uri": "https://localhost:8080/",
     "height": 211
    },
    "id": "pwmgxkpK0-QI",
    "outputId": "92c6ebd8-0bcf-4429-f823-e3537ec1b100"
   },
   "outputs": [],
   "source": [
    "# computing the mean values of numerical features for each cluster\n",
    "cluster_means=pd.DataFrame()\n",
    "for feature in ['age_group', 'income_group']:\n",
    "    mode_series = cust_data_copy.groupby('cluster')[feature].agg(lambda x: x.mode()[0])\n",
    "    cluster_means[feature] = mode_series\n",
    "\n",
    "print(cluster_means)"
   ]
  },
  {
   "cell_type": "code",
   "execution_count": null,
   "id": "8935e6e1",
   "metadata": {
    "id": "8935e6e1"
   },
   "outputs": [],
   "source": [
    "# Example: Analyzing clusters\n",
    "\n",
    "\n",
    "# Group by cluster and analyze event counts\n",
    "cluster_analysis = cust_data_copy.groupby('cluster','value')['event'].value_counts().unstack().fillna(0)\n",
    "print(cluster_analysis)\n",
    "\n",
    "# Visualize event counts by cluster\n",
    "plt.figure(figsize=(10, 6))\n",
    "sns.heatmap(cluster_analysis, annot=True, cmap='Blues', fmt='g')\n",
    "plt.title('Event Counts by Cluster')\n",
    "plt.show()\n",
    "\n",
    "# Example: Calculate offer completion rate by cluster\n",
    "offer_completion_rate = cust_data_copy[cust_data_copy['event'] == 'offer completed'].groupby('cluster')['event'].count() / cust_data_copy.groupby('cluster')['event'].count()\n",
    "print(\"Offer Completion Rate by Cluster:\")\n",
    "print(offer_completion_rate)\n",
    "\n",
    "# Example: Analyze demographic distributions within clusters\n",
    "sns.countplot(x='age_group', hue='cluster', data=cust_data_copy)\n",
    "plt.title('Age Group Distribution by Cluster')\n",
    "plt.show()\n",
    "\n",
    "sns.countplot(x='income_group', hue='cluster', data=cust_data_copy)\n",
    "plt.title('Income Group Distribution by Cluster')\n",
    "plt.show()\n",
    "\n",
    "# Example: Analyze offer types by cluster\n",
    "offer_type_counts = cust_data_copy[cust_data_copy['event'].isin(['offer received', 'offer viewed', 'offer completed'])].groupby(['cluster', 'event'])['value'].count().unstack().fillna(0)\n",
    "print(\"Offer Type Counts by Cluster:\")\n",
    "print(offer_type_counts)\n",
    "\n"
   ]
  },
  {
   "cell_type": "code",
   "execution_count": null,
   "id": "cbc440a3",
   "metadata": {
    "id": "cbc440a3"
   },
   "outputs": [],
   "source": [
    "\n",
    "\n",
    "# Example: Define target variable\n",
    "cust_data_copy['completed_offer'] = np.where(cust_data_copy['event'] == 'offer completed', 1, 0)\n",
    "\n",
    "# # Example: Define features for modeling\n",
    "# features = ['age_group', 'income_group', 'gender', 'value', 'cluster']\n",
    "\n",
    "# Example: Split data into train and test sets\n",
    "X = cust_data_scaled\n",
    "y = cust_data_copy['completed_offer']\n",
    "X_train, X_test, y_train, y_test = train_test_split(X, y, test_size=0.2, random_state=42)\n",
    "\n",
    "# Example: Train a classification model\n",
    "from sklearn.ensemble import RandomForestClassifier\n",
    "\n",
    "model = RandomForestClassifier(n_estimators=100, random_state=42)\n",
    "model.fit(X_train, y_train)\n",
    "\n",
    "# Example: Predictions and evaluation\n",
    "y_pred = model.predict(X_test)\n",
    "from sklearn.metrics import accuracy_score, classification_report\n",
    "\n",
    "print(\"Accuracy:\", accuracy_score(y_test, y_pred))\n",
    "print(classification_report(y_test, y_pred))\n",
    "\n",
    "\n",
    "# Example: Optimize hyperparameters (Grid Search)\n",
    "from sklearn.model_selection import GridSearchCV\n",
    "\n",
    "param_grid = {\n",
    "    'n_estimators': [100, 200, 300],\n",
    "    'max_depth': [10, 20, 30, None],\n",
    "    'min_samples_split': [2, 5, 10],\n",
    "    'min_samples_leaf': [1, 2, 4]\n",
    "}\n",
    "\n",
    "grid_search = GridSearchCV(estimator=model, param_grid=param_grid, cv=5)\n",
    "grid_search.fit(X_train, y_train)\n",
    "\n",
    "print(\"Best Parameters:\", grid_search.best_params_)\n",
    "print(\"Best Score:\", grid_search.best_score_)\n",
    "\n",
    "# Example: Retrain model with best parameters\n",
    "best_model = grid_search.best_estimator_\n",
    "best_model.fit(X_train, y_train)\n",
    "\n",
    "# Example: Predictions and evaluation with best model\n",
    "y_pred_best = best_model.predict(X_test)\n",
    "print(\"Accuracy with best model:\", accuracy_score(y_test, y_pred_best))\n",
    "print(classification_report(y_test, y_pred_best))\n"
   ]
  },
  {
   "cell_type": "code",
   "execution_count": null,
   "id": "c3c4f3a9",
   "metadata": {
    "id": "c3c4f3a9"
   },
   "outputs": [],
   "source": [
    "# Import necessary libraries\n",
    "import numpy as np\n",
    "import pandas as pd\n",
    "from sklearn.model_selection import train_test_split, GridSearchCV\n",
    "from sklearn.metrics import accuracy_score, classification_report\n",
    "from sklearn.ensemble import RandomForestClassifier\n",
    "from sklearn.svm import SVC\n",
    "from sklearn.neighbors import KNeighborsClassifier\n",
    "from sklearn.linear_model import LogisticRegression\n",
    "\n",
    "# Assuming cust_data_scaled and cust_data_copy are defined appropriately\n",
    "\n",
    "# Example: Define target variable\n",
    "cust_data_copy['completed_offer'] = np.where(cust_data_copy['event'] == 'offer completed', 1, 0)\n",
    "\n",
    "# Example: Split data into train and test sets\n",
    "X = cust_data_scaled  # Assuming cust_data_scaled is defined appropriately\n",
    "y = cust_data_copy['completed_offer']\n",
    "X_train, X_test, y_train, y_test = train_test_split(X, y, test_size=0.2, random_state=42)\n",
    "\n",
    "# Example: Train and evaluate different classification models\n",
    "\n",
    "# Random Forest Classifier\n",
    "print(\"\\nRandom Forest Classifier:\")\n",
    "model_rf = RandomForestClassifier(n_estimators=100, random_state=42)\n",
    "model_rf.fit(X_train, y_train)\n",
    "y_pred_rf = model_rf.predict(X_test)\n",
    "print(\"Accuracy:\", accuracy_score(y_test, y_pred_rf))\n",
    "print(classification_report(y_test, y_pred_rf))\n",
    "\n",
    "# Support Vector Classifier (SVC)\n",
    "print(\"\\nSupport Vector Classifier (SVC):\")\n",
    "model_svc = SVC(kernel='rbf', random_state=42)\n",
    "model_svc.fit(X_train, y_train)\n",
    "y_pred_svc = model_svc.predict(X_test)\n",
    "print(\"Accuracy:\", accuracy_score(y_test, y_pred_svc))\n",
    "print(classification_report(y_test, y_pred_svc))\n",
    "\n",
    "# K-Nearest Neighbors Classifier (KNN)\n",
    "print(\"\\nK-Nearest Neighbors Classifier (KNN):\")\n",
    "model_knn = KNeighborsClassifier()\n",
    "model_knn.fit(X_train, y_train)\n",
    "y_pred_knn = model_knn.predict(X_test)\n",
    "print(\"Accuracy:\", accuracy_score(y_test, y_pred_knn))\n",
    "print(classification_report(y_test, y_pred_knn))\n",
    "\n",
    "# Logistic Regression\n",
    "print(\"\\nLogistic Regression:\")\n",
    "model_lr = LogisticRegression(max_iter=1000, random_state=42)\n",
    "model_lr.fit(X_train, y_train)\n",
    "y_pred_lr = model_lr.predict(X_test)\n",
    "print(\"Accuracy:\", accuracy_score(y_test, y_pred_lr))\n",
    "print(classification_report(y_test, y_pred_lr))\n",
    "\n",
    "# Example: Optimize hyperparameters for each model using Grid Search\n",
    "\n",
    "# Grid Search for Random Forest Classifier\n",
    "print(\"\\nGrid Search for Random Forest Classifier:\")\n",
    "param_grid_rf = {\n",
    "    'n_estimators': [100, 200, 300],\n",
    "    'max_depth': [10, 20, 30, None],\n",
    "    'min_samples_split': [2, 5, 10],\n",
    "    'min_samples_leaf': [1, 2, 4]\n",
    "}\n",
    "grid_search_rf = GridSearchCV(estimator=model_rf, param_grid=param_grid_rf, cv=5)\n",
    "grid_search_rf.fit(X_train, y_train)\n",
    "print(\"Best Parameters:\", grid_search_rf.best_params_)\n",
    "print(\"Best Score:\", grid_search_rf.best_score_)\n",
    "\n",
    "# Grid Search for Support Vector Classifier (SVC)\n",
    "print(\"\\nGrid Search for Support Vector Classifier (SVC):\")\n",
    "param_grid_svc = {\n",
    "    'C': [0.1, 1, 10],\n",
    "    'gamma': ['scale', 'auto'],\n",
    "    'kernel': ['linear', 'rbf', 'poly']\n",
    "}\n",
    "grid_search_svc = GridSearchCV(estimator=model_svc, param_grid=param_grid_svc, cv=5)\n",
    "grid_search_svc.fit(X_train, y_train)\n",
    "print(\"Best Parameters:\", grid_search_svc.best_params_)\n",
    "print(\"Best Score:\", grid_search_svc.best_score_)\n",
    "\n",
    "# Grid Search for K-Nearest Neighbors Classifier (KNN)\n",
    "print(\"\\nGrid Search for K-Nearest Neighbors Classifier (KNN):\")\n",
    "param_grid_knn = {\n",
    "    'n_neighbors': [3, 5, 7, 9],\n",
    "    'weights': ['uniform', 'distance'],\n",
    "    'metric': ['euclidean', 'manhattan']\n",
    "}\n",
    "grid_search_knn = GridSearchCV(estimator=model_knn, param_grid=param_grid_knn, cv=5)\n",
    "grid_search_knn.fit(X_train, y_train)\n",
    "print(\"Best Parameters:\", grid_search_knn.best_params_)\n",
    "print(\"Best Score:\", grid_search_knn.best_score_)\n",
    "\n",
    "# Grid Search for Logistic Regression\n",
    "print(\"\\nGrid Search for Logistic Regression:\")\n",
    "param_grid_lr = {\n",
    "    'C': [0.1, 1, 10],\n",
    "    'solver': ['liblinear', 'lbfgs'],\n",
    "    'max_iter': [100, 200, 300]\n",
    "}\n",
    "grid_search_lr = GridSearchCV(estimator=model_lr, param_grid=param_grid_lr, cv=5)\n",
    "grid_search_lr.fit(X_train, y_train)\n",
    "print(\"Best Parameters:\", grid_search_lr.best_params_)\n",
    "print(\"Best Score:\", grid_search_lr.best_score_)\n"
   ]
  },
  {
   "cell_type": "code",
   "execution_count": null,
   "id": "34fe3500",
   "metadata": {},
   "outputs": [],
   "source": []
  },
  {
   "cell_type": "code",
   "execution_count": null,
   "id": "11714b7d",
   "metadata": {},
   "outputs": [],
   "source": []
  },
  {
   "cell_type": "code",
   "execution_count": null,
   "id": "cb4e9f07",
   "metadata": {},
   "outputs": [],
   "source": []
  }
 ],
 "metadata": {
  "colab": {
   "provenance": []
  },
  "kernelspec": {
   "display_name": "Python 3 (ipykernel)",
   "language": "python",
   "name": "python3"
  },
  "language_info": {
   "codemirror_mode": {
    "name": "ipython",
    "version": 3
   },
   "file_extension": ".py",
   "mimetype": "text/x-python",
   "name": "python",
   "nbconvert_exporter": "python",
   "pygments_lexer": "ipython3",
   "version": "3.9.13"
  }
 },
 "nbformat": 4,
 "nbformat_minor": 5
}
